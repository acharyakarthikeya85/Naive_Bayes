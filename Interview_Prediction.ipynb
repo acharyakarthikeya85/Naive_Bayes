{
 "cells": [
  {
   "cell_type": "markdown",
   "metadata": {
    "collapsed": true
   },
   "source": [
    "### Interview Attendance Problem"
   ]
  },
  {
   "cell_type": "markdown",
   "metadata": {},
   "source": [
    "The Dataset consists of details of 1200 + candidates and the interviews they have attended. Also deals with candidate interview attendance for various clients. There are a set of questions that are asked by a recruiter while scheduling the candidate. The answers to these determine whether expected attendance is yes, no or uncertain.\n",
    "\n",
    "**Objective: ** We would like to know if we can predict whether a candidate will attend interviews or not"
   ]
  },
  {
   "cell_type": "markdown",
   "metadata": {},
   "source": [
    "**Attributes description:**\n",
    "\n",
    "1. Date of Interview: This date refers to the day the candidates were scheduled for the interview. The formats vary.<br/>\n",
    "2. Client name: The clients that gave the recruitment vendor the requisite mandate<br/>\n",
    "3. Industry: This refers to the vertical the client belongs(Note Candidates can jump across verticals in their job hunt)<br/>\n",
    "4. LocationRefers: to the current location of the candidate<br/>\n",
    "5. Position to be closed: Niche refers to rare skill sets while routine refers to more common skill sets<br/>\n",
    "6. Nature of Skillset: This refers to the skill the client has and specifies the same<br/>\n",
    "7. Interview Type: There are three types of interview-  <br/>\n",
    " * Walkin drives- these are unscheduled. Candidates are either contacted or they come to the interview on their own volition<br/>\n",
    " * Scheduled- Here the candidates profiles are screened by the client and subsequent to this, the vendor fixes an appointment between the client and the candidate. <br/>\n",
    " * The third one is a scheduled walkin. Here the number of candidates is larger and the candidates are informed beforehand of a tentative date to ascertain their availability. The profiles are screened as in a scheduled interview. In a sense it bears features of both a walk-in and a scheduled interview<br/>\n",
    "8. Name(Cand ID): This is a substitute to keep the candidates identity a secret<br/>\n",
    "9. Gender: Whether the candidate is male or female<br/>\n",
    "10. Candidate Current Location<br/>\n",
    "11. Candidate Job Location<br/>\n",
    "12. Interview Venue<br/>\n",
    "13. Candidate Native location<br/>\n",
    "14. Have you obtained the necessary permission to start at the required time<br/>\n",
    "15. Hope there will be no unscheduled meetings<br/>\n",
    "16. Can I Call you three hours before the interview and follow up on your attendance for the interview<br/>\n",
    "17. Can I have an alternative number/ desk number. I assure you that I will not trouble you too much<br/>\n",
    "18. Have you taken a printout of your updated resume. Have you read the JD and understood the same<br/>\n",
    "19. Are you clear with the venue details and the landmark.<br/>\n",
    "20. Has the call letter been shared<br/>\n",
    "21. Expected Attendance: Whether the candidate was expected to attend the interview. Here the it is either yes no or uncertain<br/>\n",
    "22. Observed Attendance: Whether the candidate attended the interview. This is binary and will form our dependent variable<br/>\n",
    "23. Marital Status: Whether the candidate is married or Single<br/>\n"
   ]
  },
  {
   "cell_type": "markdown",
   "metadata": {},
   "source": [
    "### Importing data <a name='id'></a>"
   ]
  },
  {
   "cell_type": "code",
   "execution_count": 1,
   "metadata": {},
   "outputs": [],
   "source": [
    "# Import basic libraries\n",
    "import numpy as np # linear algebra\n",
    "import pandas as pd # data processing\n",
    "\n",
    "# import visualization libraries\n",
    "import seaborn as sns ### For visualizations\n",
    "import matplotlib.pyplot as plt\n",
    "%matplotlib inline"
   ]
  },
  {
   "cell_type": "code",
   "execution_count": 2,
   "metadata": {},
   "outputs": [],
   "source": [
    "data = pd.read_csv(\"Interview.csv\")"
   ]
  },
  {
   "cell_type": "code",
   "execution_count": 3,
   "metadata": {},
   "outputs": [
    {
     "data": {
      "text/html": [
       "<div>\n",
       "<style scoped>\n",
       "    .dataframe tbody tr th:only-of-type {\n",
       "        vertical-align: middle;\n",
       "    }\n",
       "\n",
       "    .dataframe tbody tr th {\n",
       "        vertical-align: top;\n",
       "    }\n",
       "\n",
       "    .dataframe thead th {\n",
       "        text-align: right;\n",
       "    }\n",
       "</style>\n",
       "<table border=\"1\" class=\"dataframe\">\n",
       "  <thead>\n",
       "    <tr style=\"text-align: right;\">\n",
       "      <th></th>\n",
       "      <th>Date of Interview</th>\n",
       "      <th>Client name</th>\n",
       "      <th>Industry</th>\n",
       "      <th>Location</th>\n",
       "      <th>Position to be closed</th>\n",
       "      <th>Nature of Skillset</th>\n",
       "      <th>Interview Type</th>\n",
       "      <th>Name(Cand ID)</th>\n",
       "      <th>Gender</th>\n",
       "      <th>Candidate Current Location</th>\n",
       "      <th>...</th>\n",
       "      <th>Have you obtained the necessary permission to start at the required time</th>\n",
       "      <th>Hope there will be no unscheduled meetings</th>\n",
       "      <th>Can I Call you three hours before the interview and follow up on your attendance for the interview</th>\n",
       "      <th>Can I have an alternative number/ desk number. I assure you that I will not trouble you too much</th>\n",
       "      <th>Have you taken a printout of your updated resume. Have you read the JD and understood the same</th>\n",
       "      <th>Are you clear with the venue details and the landmark.</th>\n",
       "      <th>Has the call letter been shared</th>\n",
       "      <th>Expected Attendance</th>\n",
       "      <th>Observed Attendance</th>\n",
       "      <th>Marital Status</th>\n",
       "    </tr>\n",
       "  </thead>\n",
       "  <tbody>\n",
       "    <tr>\n",
       "      <th>0</th>\n",
       "      <td>13.02.2015</td>\n",
       "      <td>Hospira</td>\n",
       "      <td>Pharmaceuticals</td>\n",
       "      <td>Chennai</td>\n",
       "      <td>Production- Sterile</td>\n",
       "      <td>Routine</td>\n",
       "      <td>Scheduled Walkin</td>\n",
       "      <td>Candidate 1</td>\n",
       "      <td>Male</td>\n",
       "      <td>Chennai</td>\n",
       "      <td>...</td>\n",
       "      <td>Yes</td>\n",
       "      <td>Yes</td>\n",
       "      <td>Yes</td>\n",
       "      <td>Yes</td>\n",
       "      <td>Yes</td>\n",
       "      <td>Yes</td>\n",
       "      <td>Yes</td>\n",
       "      <td>Yes</td>\n",
       "      <td>No</td>\n",
       "      <td>Single</td>\n",
       "    </tr>\n",
       "    <tr>\n",
       "      <th>1</th>\n",
       "      <td>13.02.2015</td>\n",
       "      <td>Hospira</td>\n",
       "      <td>Pharmaceuticals</td>\n",
       "      <td>Chennai</td>\n",
       "      <td>Production- Sterile</td>\n",
       "      <td>Routine</td>\n",
       "      <td>Scheduled Walkin</td>\n",
       "      <td>Candidate 2</td>\n",
       "      <td>Male</td>\n",
       "      <td>Chennai</td>\n",
       "      <td>...</td>\n",
       "      <td>Yes</td>\n",
       "      <td>Yes</td>\n",
       "      <td>Yes</td>\n",
       "      <td>Yes</td>\n",
       "      <td>Yes</td>\n",
       "      <td>Yes</td>\n",
       "      <td>Yes</td>\n",
       "      <td>Yes</td>\n",
       "      <td>No</td>\n",
       "      <td>Single</td>\n",
       "    </tr>\n",
       "    <tr>\n",
       "      <th>2</th>\n",
       "      <td>13.02.2015</td>\n",
       "      <td>Hospira</td>\n",
       "      <td>Pharmaceuticals</td>\n",
       "      <td>Chennai</td>\n",
       "      <td>Production- Sterile</td>\n",
       "      <td>Routine</td>\n",
       "      <td>Scheduled Walkin</td>\n",
       "      <td>Candidate 3</td>\n",
       "      <td>Male</td>\n",
       "      <td>Chennai</td>\n",
       "      <td>...</td>\n",
       "      <td>NaN</td>\n",
       "      <td>Na</td>\n",
       "      <td>NaN</td>\n",
       "      <td>NaN</td>\n",
       "      <td>NaN</td>\n",
       "      <td>NaN</td>\n",
       "      <td>NaN</td>\n",
       "      <td>Uncertain</td>\n",
       "      <td>No</td>\n",
       "      <td>Single</td>\n",
       "    </tr>\n",
       "    <tr>\n",
       "      <th>3</th>\n",
       "      <td>13.02.2015</td>\n",
       "      <td>Hospira</td>\n",
       "      <td>Pharmaceuticals</td>\n",
       "      <td>Chennai</td>\n",
       "      <td>Production- Sterile</td>\n",
       "      <td>Routine</td>\n",
       "      <td>Scheduled Walkin</td>\n",
       "      <td>Candidate 4</td>\n",
       "      <td>Male</td>\n",
       "      <td>Chennai</td>\n",
       "      <td>...</td>\n",
       "      <td>Yes</td>\n",
       "      <td>Yes</td>\n",
       "      <td>No</td>\n",
       "      <td>Yes</td>\n",
       "      <td>No</td>\n",
       "      <td>Yes</td>\n",
       "      <td>Yes</td>\n",
       "      <td>Uncertain</td>\n",
       "      <td>No</td>\n",
       "      <td>Single</td>\n",
       "    </tr>\n",
       "    <tr>\n",
       "      <th>4</th>\n",
       "      <td>13.02.2015</td>\n",
       "      <td>Hospira</td>\n",
       "      <td>Pharmaceuticals</td>\n",
       "      <td>Chennai</td>\n",
       "      <td>Production- Sterile</td>\n",
       "      <td>Routine</td>\n",
       "      <td>Scheduled Walkin</td>\n",
       "      <td>Candidate 5</td>\n",
       "      <td>Male</td>\n",
       "      <td>Chennai</td>\n",
       "      <td>...</td>\n",
       "      <td>Yes</td>\n",
       "      <td>Yes</td>\n",
       "      <td>Yes</td>\n",
       "      <td>No</td>\n",
       "      <td>Yes</td>\n",
       "      <td>Yes</td>\n",
       "      <td>Yes</td>\n",
       "      <td>Uncertain</td>\n",
       "      <td>No</td>\n",
       "      <td>Married</td>\n",
       "    </tr>\n",
       "  </tbody>\n",
       "</table>\n",
       "<p>5 rows × 23 columns</p>\n",
       "</div>"
      ],
      "text/plain": [
       "  Date of Interview Client name         Industry Location  \\\n",
       "0        13.02.2015     Hospira  Pharmaceuticals  Chennai   \n",
       "1        13.02.2015     Hospira  Pharmaceuticals  Chennai   \n",
       "2        13.02.2015     Hospira  Pharmaceuticals  Chennai   \n",
       "3        13.02.2015     Hospira  Pharmaceuticals  Chennai   \n",
       "4        13.02.2015     Hospira  Pharmaceuticals  Chennai   \n",
       "\n",
       "  Position to be closed Nature of Skillset    Interview Type Name(Cand ID)  \\\n",
       "0   Production- Sterile            Routine  Scheduled Walkin   Candidate 1   \n",
       "1   Production- Sterile            Routine  Scheduled Walkin   Candidate 2   \n",
       "2   Production- Sterile            Routine  Scheduled Walkin   Candidate 3   \n",
       "3   Production- Sterile            Routine  Scheduled Walkin   Candidate 4   \n",
       "4   Production- Sterile            Routine  Scheduled Walkin   Candidate 5   \n",
       "\n",
       "  Gender Candidate Current Location  ...  \\\n",
       "0   Male                    Chennai  ...   \n",
       "1   Male                    Chennai  ...   \n",
       "2   Male                    Chennai  ...   \n",
       "3   Male                    Chennai  ...   \n",
       "4   Male                    Chennai  ...   \n",
       "\n",
       "  Have you obtained the necessary permission to start at the required time  \\\n",
       "0                                                Yes                         \n",
       "1                                                Yes                         \n",
       "2                                                NaN                         \n",
       "3                                                Yes                         \n",
       "4                                                Yes                         \n",
       "\n",
       "  Hope there will be no unscheduled meetings  \\\n",
       "0                                        Yes   \n",
       "1                                        Yes   \n",
       "2                                         Na   \n",
       "3                                        Yes   \n",
       "4                                        Yes   \n",
       "\n",
       "  Can I Call you three hours before the interview and follow up on your attendance for the interview  \\\n",
       "0                                                Yes                                                   \n",
       "1                                                Yes                                                   \n",
       "2                                                NaN                                                   \n",
       "3                                                 No                                                   \n",
       "4                                                Yes                                                   \n",
       "\n",
       "  Can I have an alternative number/ desk number. I assure you that I will not trouble you too much  \\\n",
       "0                                                Yes                                                 \n",
       "1                                                Yes                                                 \n",
       "2                                                NaN                                                 \n",
       "3                                                Yes                                                 \n",
       "4                                                 No                                                 \n",
       "\n",
       "  Have you taken a printout of your updated resume. Have you read the JD and understood the same  \\\n",
       "0                                                Yes                                               \n",
       "1                                                Yes                                               \n",
       "2                                                NaN                                               \n",
       "3                                                 No                                               \n",
       "4                                                Yes                                               \n",
       "\n",
       "  Are you clear with the venue details and the landmark.  \\\n",
       "0                                                Yes       \n",
       "1                                                Yes       \n",
       "2                                                NaN       \n",
       "3                                                Yes       \n",
       "4                                                Yes       \n",
       "\n",
       "  Has the call letter been shared Expected Attendance Observed Attendance  \\\n",
       "0                             Yes                 Yes                  No   \n",
       "1                             Yes                 Yes                  No   \n",
       "2                             NaN           Uncertain                  No   \n",
       "3                             Yes           Uncertain                  No   \n",
       "4                             Yes           Uncertain                  No   \n",
       "\n",
       "  Marital Status  \n",
       "0         Single  \n",
       "1         Single  \n",
       "2         Single  \n",
       "3         Single  \n",
       "4        Married  \n",
       "\n",
       "[5 rows x 23 columns]"
      ]
     },
     "execution_count": 3,
     "metadata": {},
     "output_type": "execute_result"
    }
   ],
   "source": [
    "data.head()"
   ]
  },
  {
   "cell_type": "markdown",
   "metadata": {},
   "source": [
    "**Observations:**<br/>\n",
    "There are missing values.<br/>\n",
    "Most of the variables are categorical data."
   ]
  },
  {
   "cell_type": "code",
   "execution_count": 4,
   "metadata": {},
   "outputs": [],
   "source": [
    "data1 = data.rename(columns={'Have you obtained the necessary permission to start at the required time': 'permission', \n",
    "                             'Hope there will be no unscheduled meetings': 'meetings', 'Can I Call you three hours before the interview and follow up on your attendance for the interview' : 'Reminder',\n",
    "                             'Can I have an alternative number/ desk number. I assure you that I will not trouble you too much': 'Alternate number',\n",
    "                             'Have you taken a printout of your updated resume. Have you read the JD and understood the same' :'Resume printout & JD',\n",
    "                             'Are you clear with the venue details and the landmark.' : 'Venue clear',\n",
    "                             'Has the call letter been shared' : 'Call letter shared',\n",
    "                             'Nature of Skillset' : 'Skillset',\n",
    "                             'Position to be closed' : 'Position',\n",
    "                             'Candidate Native location' : 'Native',\n",
    "                             'Candidate Current Location' : 'Current Location'}) ### renaming column names\n"
   ]
  },
  {
   "cell_type": "markdown",
   "metadata": {},
   "source": [
    "**Note:**<br/>\n",
    "Renamed some column names as short and simple"
   ]
  },
  {
   "cell_type": "code",
   "execution_count": 5,
   "metadata": {},
   "outputs": [
    {
     "name": "stdout",
     "output_type": "stream",
     "text": [
      "<class 'pandas.core.frame.DataFrame'>\n",
      "RangeIndex: 1232 entries, 0 to 1231\n",
      "Data columns (total 23 columns):\n",
      "Date of Interview         1232 non-null object\n",
      "Client name               1232 non-null object\n",
      "Industry                  1232 non-null object\n",
      "Location                  1232 non-null object\n",
      "Position                  1232 non-null object\n",
      "Skillset                  1232 non-null object\n",
      "Interview Type            1232 non-null object\n",
      "Name(Cand ID)             1232 non-null object\n",
      "Gender                    1232 non-null object\n",
      "Current Location          1232 non-null object\n",
      "Candidate Job Location    1232 non-null object\n",
      "Interview Venue           1232 non-null object\n",
      "Native                    1232 non-null object\n",
      "permission                1028 non-null object\n",
      "meetings                  985 non-null object\n",
      "Reminder                  985 non-null object\n",
      "Alternate number          985 non-null object\n",
      "Resume printout & JD      984 non-null object\n",
      "Venue clear               984 non-null object\n",
      "Call letter shared        987 non-null object\n",
      "Expected Attendance       1227 non-null object\n",
      "Observed Attendance       1232 non-null object\n",
      "Marital Status            1232 non-null object\n",
      "dtypes: object(23)\n",
      "memory usage: 221.5+ KB\n"
     ]
    }
   ],
   "source": [
    "data1.info()"
   ]
  },
  {
   "cell_type": "markdown",
   "metadata": {},
   "source": [
    "**Observations**<br/>\n",
    "There are missing values.<br/>\n",
    "23 columns and 1232 rows"
   ]
  },
  {
   "cell_type": "markdown",
   "metadata": {},
   "source": [
    "###  Performing Descriptive Statistics on the dataset "
   ]
  },
  {
   "cell_type": "code",
   "execution_count": 6,
   "metadata": {},
   "outputs": [
    {
     "data": {
      "text/html": [
       "<div>\n",
       "<style scoped>\n",
       "    .dataframe tbody tr th:only-of-type {\n",
       "        vertical-align: middle;\n",
       "    }\n",
       "\n",
       "    .dataframe tbody tr th {\n",
       "        vertical-align: top;\n",
       "    }\n",
       "\n",
       "    .dataframe thead th {\n",
       "        text-align: right;\n",
       "    }\n",
       "</style>\n",
       "<table border=\"1\" class=\"dataframe\">\n",
       "  <thead>\n",
       "    <tr style=\"text-align: right;\">\n",
       "      <th></th>\n",
       "      <th>Date of Interview</th>\n",
       "      <th>Client name</th>\n",
       "      <th>Industry</th>\n",
       "      <th>Location</th>\n",
       "      <th>Position</th>\n",
       "      <th>Skillset</th>\n",
       "      <th>Interview Type</th>\n",
       "      <th>Name(Cand ID)</th>\n",
       "      <th>Gender</th>\n",
       "      <th>Current Location</th>\n",
       "      <th>...</th>\n",
       "      <th>permission</th>\n",
       "      <th>meetings</th>\n",
       "      <th>Reminder</th>\n",
       "      <th>Alternate number</th>\n",
       "      <th>Resume printout &amp; JD</th>\n",
       "      <th>Venue clear</th>\n",
       "      <th>Call letter shared</th>\n",
       "      <th>Expected Attendance</th>\n",
       "      <th>Observed Attendance</th>\n",
       "      <th>Marital Status</th>\n",
       "    </tr>\n",
       "  </thead>\n",
       "  <tbody>\n",
       "    <tr>\n",
       "      <th>count</th>\n",
       "      <td>1232</td>\n",
       "      <td>1232</td>\n",
       "      <td>1232</td>\n",
       "      <td>1232</td>\n",
       "      <td>1232</td>\n",
       "      <td>1232</td>\n",
       "      <td>1232</td>\n",
       "      <td>1232</td>\n",
       "      <td>1232</td>\n",
       "      <td>1232</td>\n",
       "      <td>...</td>\n",
       "      <td>1028</td>\n",
       "      <td>985</td>\n",
       "      <td>985</td>\n",
       "      <td>985</td>\n",
       "      <td>984</td>\n",
       "      <td>984</td>\n",
       "      <td>987</td>\n",
       "      <td>1227</td>\n",
       "      <td>1232</td>\n",
       "      <td>1232</td>\n",
       "    </tr>\n",
       "    <tr>\n",
       "      <th>unique</th>\n",
       "      <td>95</td>\n",
       "      <td>15</td>\n",
       "      <td>7</td>\n",
       "      <td>11</td>\n",
       "      <td>7</td>\n",
       "      <td>91</td>\n",
       "      <td>6</td>\n",
       "      <td>1232</td>\n",
       "      <td>2</td>\n",
       "      <td>10</td>\n",
       "      <td>...</td>\n",
       "      <td>7</td>\n",
       "      <td>7</td>\n",
       "      <td>5</td>\n",
       "      <td>6</td>\n",
       "      <td>8</td>\n",
       "      <td>6</td>\n",
       "      <td>12</td>\n",
       "      <td>6</td>\n",
       "      <td>8</td>\n",
       "      <td>2</td>\n",
       "    </tr>\n",
       "    <tr>\n",
       "      <th>top</th>\n",
       "      <td>06.02.2016</td>\n",
       "      <td>Standard Chartered Bank</td>\n",
       "      <td>BFSI</td>\n",
       "      <td>Chennai</td>\n",
       "      <td>Routine</td>\n",
       "      <td>JAVA/J2EE/Struts/Hibernate</td>\n",
       "      <td>Scheduled Walk In</td>\n",
       "      <td>Candidate 804</td>\n",
       "      <td>Male</td>\n",
       "      <td>Chennai</td>\n",
       "      <td>...</td>\n",
       "      <td>Yes</td>\n",
       "      <td>Yes</td>\n",
       "      <td>Yes</td>\n",
       "      <td>Yes</td>\n",
       "      <td>Yes</td>\n",
       "      <td>Yes</td>\n",
       "      <td>Yes</td>\n",
       "      <td>Yes</td>\n",
       "      <td>Yes</td>\n",
       "      <td>Single</td>\n",
       "    </tr>\n",
       "    <tr>\n",
       "      <th>freq</th>\n",
       "      <td>220</td>\n",
       "      <td>903</td>\n",
       "      <td>948</td>\n",
       "      <td>754</td>\n",
       "      <td>1022</td>\n",
       "      <td>220</td>\n",
       "      <td>456</td>\n",
       "      <td>1</td>\n",
       "      <td>964</td>\n",
       "      <td>754</td>\n",
       "      <td>...</td>\n",
       "      <td>917</td>\n",
       "      <td>948</td>\n",
       "      <td>950</td>\n",
       "      <td>935</td>\n",
       "      <td>939</td>\n",
       "      <td>946</td>\n",
       "      <td>932</td>\n",
       "      <td>882</td>\n",
       "      <td>700</td>\n",
       "      <td>767</td>\n",
       "    </tr>\n",
       "  </tbody>\n",
       "</table>\n",
       "<p>4 rows × 23 columns</p>\n",
       "</div>"
      ],
      "text/plain": [
       "       Date of Interview              Client name Industry Location Position  \\\n",
       "count               1232                     1232     1232     1232     1232   \n",
       "unique                95                       15        7       11        7   \n",
       "top           06.02.2016  Standard Chartered Bank     BFSI  Chennai  Routine   \n",
       "freq                 220                      903      948      754     1022   \n",
       "\n",
       "                          Skillset     Interview Type  Name(Cand ID) Gender  \\\n",
       "count                         1232               1232           1232   1232   \n",
       "unique                          91                  6           1232      2   \n",
       "top     JAVA/J2EE/Struts/Hibernate  Scheduled Walk In  Candidate 804   Male   \n",
       "freq                           220                456              1    964   \n",
       "\n",
       "       Current Location  ... permission meetings Reminder Alternate number  \\\n",
       "count              1232  ...       1028      985      985              985   \n",
       "unique               10  ...          7        7        5                6   \n",
       "top             Chennai  ...        Yes      Yes      Yes              Yes   \n",
       "freq                754  ...        917      948      950              935   \n",
       "\n",
       "       Resume printout & JD Venue clear Call letter shared  \\\n",
       "count                   984         984                987   \n",
       "unique                    8           6                 12   \n",
       "top                     Yes         Yes                Yes   \n",
       "freq                    939         946                932   \n",
       "\n",
       "       Expected Attendance Observed Attendance Marital Status  \n",
       "count                 1227                1232           1232  \n",
       "unique                   6                   8              2  \n",
       "top                    Yes                 Yes         Single  \n",
       "freq                   882                 700            767  \n",
       "\n",
       "[4 rows x 23 columns]"
      ]
     },
     "execution_count": 6,
     "metadata": {},
     "output_type": "execute_result"
    }
   ],
   "source": [
    "data1.describe()"
   ]
  },
  {
   "cell_type": "markdown",
   "metadata": {},
   "source": [
    "***Most of the data seems to be categorical data. There seems to be some missing values in some columns. i.e most columns have 1232 count, some have less count compared to these."
   ]
  },
  {
   "cell_type": "markdown",
   "metadata": {},
   "source": [
    "#### Since column names are too big we will rename some of the columns"
   ]
  },
  {
   "cell_type": "code",
   "execution_count": 7,
   "metadata": {},
   "outputs": [],
   "source": [
    "data1 = data.rename(columns={'Have you obtained the necessary permission to start at the required time': 'permission', \n",
    "                             'Hope there will be no unscheduled meetings': 'meetings', 'Can I Call you three hours before the interview and follow up on your attendance for the interview' : 'Reminder',\n",
    "                             'Can I have an alternative number/ desk number. I assure you that I will not trouble you too much': 'Alternate number',\n",
    "                             'Have you taken a printout of your updated resume. Have you read the JD and understood the same' :'Resume printout & JD',\n",
    "                             'Are you clear with the venue details and the landmark.' : 'Venue clear',\n",
    "                             'Has the call letter been shared' : 'Call letter shared',\n",
    "                             'Nature of Skillset' : 'Skillset',\n",
    "                             'Position to be closed' : 'Position',\n",
    "                             'Candidate Native location' : 'Native',\n",
    "                             'Candidate Current Location' : 'Current Location'})"
   ]
  },
  {
   "cell_type": "code",
   "execution_count": 8,
   "metadata": {},
   "outputs": [
    {
     "name": "stdout",
     "output_type": "stream",
     "text": [
      "<class 'pandas.core.frame.DataFrame'>\n",
      "RangeIndex: 1232 entries, 0 to 1231\n",
      "Data columns (total 23 columns):\n",
      "Date of Interview         1232 non-null object\n",
      "Client name               1232 non-null object\n",
      "Industry                  1232 non-null object\n",
      "Location                  1232 non-null object\n",
      "Position                  1232 non-null object\n",
      "Skillset                  1232 non-null object\n",
      "Interview Type            1232 non-null object\n",
      "Name(Cand ID)             1232 non-null object\n",
      "Gender                    1232 non-null object\n",
      "Current Location          1232 non-null object\n",
      "Candidate Job Location    1232 non-null object\n",
      "Interview Venue           1232 non-null object\n",
      "Native                    1232 non-null object\n",
      "permission                1028 non-null object\n",
      "meetings                  985 non-null object\n",
      "Reminder                  985 non-null object\n",
      "Alternate number          985 non-null object\n",
      "Resume printout & JD      984 non-null object\n",
      "Venue clear               984 non-null object\n",
      "Call letter shared        987 non-null object\n",
      "Expected Attendance       1227 non-null object\n",
      "Observed Attendance       1232 non-null object\n",
      "Marital Status            1232 non-null object\n",
      "dtypes: object(23)\n",
      "memory usage: 221.5+ KB\n"
     ]
    }
   ],
   "source": [
    "data1.info()\n",
    "#There are some missing values in few columns. There are 23 columns and 1232 rows in total. All columns are categorical in nature."
   ]
  },
  {
   "cell_type": "markdown",
   "metadata": {},
   "source": [
    "### Data cleaning"
   ]
  },
  {
   "cell_type": "code",
   "execution_count": 9,
   "metadata": {},
   "outputs": [
    {
     "name": "stdout",
     "output_type": "stream",
     "text": [
      "['13.02.2015' '19.06.2015' '23.06.2015' '29.06.2015' '25.06.2015'\n",
      " '25.05.16' '25.5.2016' '25-05-2016' '25.05.2016' '25-5-2016' '4/12/2016'\n",
      " '13.04.2016' '27.02.2016' '07.05.2016' '5.5.16' '4.5.16' '21.4.16'\n",
      " '22.4.16' '23.4.16' '15-Apr-16' '19-Apr-16' '20-Apr-16' '21-Apr-16'\n",
      " '22-Apr-16' '25-Apr-16' '18-Apr-16' '11.5.16' '10.5.16' '11.05.16'\n",
      " '12.04.2016' '12.04.2017' '12.04.2018' '12.04.2019' '12.04.2020'\n",
      " '12.04.2021' '12.04.2022' '12.04.2023' '8.5.16' '7.5.16' '19.03.16'\n",
      " '24.05.2016' '5/11/2016' '26/05/2016' '10.05.2016'\n",
      " '28.08.2016 & 09.00 AM' '28.08.2016 & 9.30 AM' '28.8.2016 & 12.00 PM'\n",
      " '28.08.2016 & 09.30 AM' '28.8.2016 & 10.30 AM' '28.8.2016 & 09.30 AM'\n",
      " '28.8.2016 & 04.00 PM' '28.08.2016 & 11.30 AM' '28.08.2016 & 11.00 AM'\n",
      " '28.08.2016 & 10.30 AM' '28.8.2016 & 03.00 PM' '28.08.2016 & 10.00 AM'\n",
      " '28.8.2016 & 02.00 PM' '28.8.2016 & 11.00 AM' '13.06.2016' '02.09.2016'\n",
      " '02.12.2015' '23.02.2016' '22.03.2016' '26.02.2016' '06.02.2016'\n",
      " '21.4.2016' '21/04/16' '21.4.15' '22.01.2016' '3.6.16' '3/6/2016'\n",
      " '09.01.2016' '9/1/2016' '03.04.2015' '13/03/2015' '17/03/2015'\n",
      " '17.03.2015' '18.03.2014' '4.04.15' '16.04.2015' '17.04.2015' '9.04.2015'\n",
      " '5/2/2015' '30.05.2016' '07.06.2016' '20.08.2016' '14.01.2016' '30.1.16 '\n",
      " '30.01.2016' '30/01/16' '30.1.16' '30.1.2016' '30.01.16' '30-1-2016'\n",
      " '06.05.2016']\n"
     ]
    }
   ],
   "source": [
    "print(data1['Date of Interview'].unique())"
   ]
  },
  {
   "cell_type": "markdown",
   "metadata": {},
   "source": [
    "*** There are different types of date. Some have '.', some have '-', some have '/'. Hence we need to clean this and get a uniform date format. "
   ]
  },
  {
   "cell_type": "code",
   "execution_count": 10,
   "metadata": {},
   "outputs": [],
   "source": [
    "def clean_interviewDate(date):\n",
    "    date = date.str.strip() #this removes the leading and trailing chars from the string. First convert date to str\n",
    "    date = date.str.split('&').str[0] #Remove time and get only date. str[0] is the first str after split\n",
    "    date = date.str.replace('-', '/')\n",
    "    date = date.str.replace('.', '/')\n",
    "    date = date.str.replace(' ', '/')\n",
    "    date = date.str.replace('Apr', '04')\n",
    "    return date\n",
    "\n",
    "data1['Date of Interview'] = clean_interviewDate(data1['Date of Interview'])"
   ]
  },
  {
   "cell_type": "code",
   "execution_count": 11,
   "metadata": {},
   "outputs": [
    {
     "name": "stdout",
     "output_type": "stream",
     "text": [
      "['13/02/2015' '19/06/2015' '23/06/2015' '29/06/2015' '25/06/2015'\n",
      " '25/05/16' '25/5/2016' '25/05/2016' '4/12/2016' '13/04/2016' '27/02/2016'\n",
      " '07/05/2016' '5/5/16' '4/5/16' '21/4/16' '22/4/16' '23/4/16' '15/04/16'\n",
      " '19/04/16' '20/04/16' '21/04/16' '22/04/16' '25/04/16' '18/04/16'\n",
      " '11/5/16' '10/5/16' '11/05/16' '12/04/2016' '12/04/2017' '12/04/2018'\n",
      " '12/04/2019' '12/04/2020' '12/04/2021' '12/04/2022' '12/04/2023' '8/5/16'\n",
      " '7/5/16' '19/03/16' '24/05/2016' '5/11/2016' '26/05/2016' '10/05/2016'\n",
      " '28/08/2016/' '28/8/2016/' '13/06/2016' '02/09/2016' '02/12/2015'\n",
      " '23/02/2016' '22/03/2016' '26/02/2016' '06/02/2016' '21/4/2016' '21/4/15'\n",
      " '22/01/2016' '3/6/16' '3/6/2016' '09/01/2016' '9/1/2016' '03/04/2015'\n",
      " '13/03/2015' '17/03/2015' '18/03/2014' '4/04/15' '16/04/2015'\n",
      " '17/04/2015' '9/04/2015' '5/2/2015' '30/05/2016' '07/06/2016'\n",
      " '20/08/2016' '14/01/2016' '30/1/16' '30/01/2016' '30/01/16' '30/1/2016'\n",
      " '06/05/2016']\n"
     ]
    }
   ],
   "source": [
    "print(data1['Date of Interview'].unique())"
   ]
  },
  {
   "cell_type": "markdown",
   "metadata": {},
   "source": [
    " *** We can see some year has 4 digits and some have 2. This needs to be cleaned."
   ]
  },
  {
   "cell_type": "code",
   "execution_count": 12,
   "metadata": {},
   "outputs": [],
   "source": [
    "# Create new columns for year, month and date\n",
    "data1['Year'] = data1['Date of Interview'].str.split('/').str[2]\n",
    "data1['Month'] = data1['Date of Interview'].str.split('/').str[1]\n",
    "data1['Day'] = data1['Date of Interview'].str.split('/').str[0]\n",
    "\n",
    "# All year should have 4 digits in them\n",
    "data1['Year'].replace(['15', '16'], ['2015', '2016'], inplace=True)\n",
    "\n"
   ]
  },
  {
   "cell_type": "code",
   "execution_count": 13,
   "metadata": {},
   "outputs": [
    {
     "name": "stdout",
     "output_type": "stream",
     "text": [
      "<class 'pandas.core.frame.DataFrame'>\n",
      "RangeIndex: 1232 entries, 0 to 1231\n",
      "Data columns (total 26 columns):\n",
      "Date of Interview         1232 non-null object\n",
      "Client name               1232 non-null object\n",
      "Industry                  1232 non-null object\n",
      "Location                  1232 non-null object\n",
      "Position                  1232 non-null object\n",
      "Skillset                  1232 non-null object\n",
      "Interview Type            1232 non-null object\n",
      "Name(Cand ID)             1232 non-null object\n",
      "Gender                    1232 non-null object\n",
      "Current Location          1232 non-null object\n",
      "Candidate Job Location    1232 non-null object\n",
      "Interview Venue           1232 non-null object\n",
      "Native                    1232 non-null object\n",
      "permission                1028 non-null object\n",
      "meetings                  985 non-null object\n",
      "Reminder                  985 non-null object\n",
      "Alternate number          985 non-null object\n",
      "Resume printout & JD      984 non-null object\n",
      "Venue clear               984 non-null object\n",
      "Call letter shared        987 non-null object\n",
      "Expected Attendance       1227 non-null object\n",
      "Observed Attendance       1232 non-null object\n",
      "Marital Status            1232 non-null object\n",
      "Year                      1232 non-null object\n",
      "Month                     1232 non-null object\n",
      "Day                       1232 non-null object\n",
      "dtypes: object(26)\n",
      "memory usage: 250.3+ KB\n"
     ]
    }
   ],
   "source": [
    "data1.info()"
   ]
  },
  {
   "cell_type": "code",
   "execution_count": 14,
   "metadata": {},
   "outputs": [
    {
     "data": {
      "text/html": [
       "<div>\n",
       "<style scoped>\n",
       "    .dataframe tbody tr th:only-of-type {\n",
       "        vertical-align: middle;\n",
       "    }\n",
       "\n",
       "    .dataframe tbody tr th {\n",
       "        vertical-align: top;\n",
       "    }\n",
       "\n",
       "    .dataframe thead th {\n",
       "        text-align: right;\n",
       "    }\n",
       "</style>\n",
       "<table border=\"1\" class=\"dataframe\">\n",
       "  <thead>\n",
       "    <tr style=\"text-align: right;\">\n",
       "      <th></th>\n",
       "      <th>Date of Interview</th>\n",
       "      <th>Client name</th>\n",
       "      <th>Industry</th>\n",
       "      <th>Location</th>\n",
       "      <th>Position</th>\n",
       "      <th>Skillset</th>\n",
       "      <th>Interview Type</th>\n",
       "      <th>Name(Cand ID)</th>\n",
       "      <th>Gender</th>\n",
       "      <th>Current Location</th>\n",
       "      <th>...</th>\n",
       "      <th>Alternate number</th>\n",
       "      <th>Resume printout &amp; JD</th>\n",
       "      <th>Venue clear</th>\n",
       "      <th>Call letter shared</th>\n",
       "      <th>Expected Attendance</th>\n",
       "      <th>Observed Attendance</th>\n",
       "      <th>Marital Status</th>\n",
       "      <th>Year</th>\n",
       "      <th>Month</th>\n",
       "      <th>Day</th>\n",
       "    </tr>\n",
       "  </thead>\n",
       "  <tbody>\n",
       "    <tr>\n",
       "      <th>0</th>\n",
       "      <td>13/02/2015</td>\n",
       "      <td>Hospira</td>\n",
       "      <td>Pharmaceuticals</td>\n",
       "      <td>Chennai</td>\n",
       "      <td>Production- Sterile</td>\n",
       "      <td>Routine</td>\n",
       "      <td>Scheduled Walkin</td>\n",
       "      <td>Candidate 1</td>\n",
       "      <td>Male</td>\n",
       "      <td>Chennai</td>\n",
       "      <td>...</td>\n",
       "      <td>Yes</td>\n",
       "      <td>Yes</td>\n",
       "      <td>Yes</td>\n",
       "      <td>Yes</td>\n",
       "      <td>Yes</td>\n",
       "      <td>No</td>\n",
       "      <td>Single</td>\n",
       "      <td>2015</td>\n",
       "      <td>02</td>\n",
       "      <td>13</td>\n",
       "    </tr>\n",
       "    <tr>\n",
       "      <th>1</th>\n",
       "      <td>13/02/2015</td>\n",
       "      <td>Hospira</td>\n",
       "      <td>Pharmaceuticals</td>\n",
       "      <td>Chennai</td>\n",
       "      <td>Production- Sterile</td>\n",
       "      <td>Routine</td>\n",
       "      <td>Scheduled Walkin</td>\n",
       "      <td>Candidate 2</td>\n",
       "      <td>Male</td>\n",
       "      <td>Chennai</td>\n",
       "      <td>...</td>\n",
       "      <td>Yes</td>\n",
       "      <td>Yes</td>\n",
       "      <td>Yes</td>\n",
       "      <td>Yes</td>\n",
       "      <td>Yes</td>\n",
       "      <td>No</td>\n",
       "      <td>Single</td>\n",
       "      <td>2015</td>\n",
       "      <td>02</td>\n",
       "      <td>13</td>\n",
       "    </tr>\n",
       "    <tr>\n",
       "      <th>2</th>\n",
       "      <td>13/02/2015</td>\n",
       "      <td>Hospira</td>\n",
       "      <td>Pharmaceuticals</td>\n",
       "      <td>Chennai</td>\n",
       "      <td>Production- Sterile</td>\n",
       "      <td>Routine</td>\n",
       "      <td>Scheduled Walkin</td>\n",
       "      <td>Candidate 3</td>\n",
       "      <td>Male</td>\n",
       "      <td>Chennai</td>\n",
       "      <td>...</td>\n",
       "      <td>NaN</td>\n",
       "      <td>NaN</td>\n",
       "      <td>NaN</td>\n",
       "      <td>NaN</td>\n",
       "      <td>Uncertain</td>\n",
       "      <td>No</td>\n",
       "      <td>Single</td>\n",
       "      <td>2015</td>\n",
       "      <td>02</td>\n",
       "      <td>13</td>\n",
       "    </tr>\n",
       "    <tr>\n",
       "      <th>3</th>\n",
       "      <td>13/02/2015</td>\n",
       "      <td>Hospira</td>\n",
       "      <td>Pharmaceuticals</td>\n",
       "      <td>Chennai</td>\n",
       "      <td>Production- Sterile</td>\n",
       "      <td>Routine</td>\n",
       "      <td>Scheduled Walkin</td>\n",
       "      <td>Candidate 4</td>\n",
       "      <td>Male</td>\n",
       "      <td>Chennai</td>\n",
       "      <td>...</td>\n",
       "      <td>Yes</td>\n",
       "      <td>No</td>\n",
       "      <td>Yes</td>\n",
       "      <td>Yes</td>\n",
       "      <td>Uncertain</td>\n",
       "      <td>No</td>\n",
       "      <td>Single</td>\n",
       "      <td>2015</td>\n",
       "      <td>02</td>\n",
       "      <td>13</td>\n",
       "    </tr>\n",
       "    <tr>\n",
       "      <th>4</th>\n",
       "      <td>13/02/2015</td>\n",
       "      <td>Hospira</td>\n",
       "      <td>Pharmaceuticals</td>\n",
       "      <td>Chennai</td>\n",
       "      <td>Production- Sterile</td>\n",
       "      <td>Routine</td>\n",
       "      <td>Scheduled Walkin</td>\n",
       "      <td>Candidate 5</td>\n",
       "      <td>Male</td>\n",
       "      <td>Chennai</td>\n",
       "      <td>...</td>\n",
       "      <td>No</td>\n",
       "      <td>Yes</td>\n",
       "      <td>Yes</td>\n",
       "      <td>Yes</td>\n",
       "      <td>Uncertain</td>\n",
       "      <td>No</td>\n",
       "      <td>Married</td>\n",
       "      <td>2015</td>\n",
       "      <td>02</td>\n",
       "      <td>13</td>\n",
       "    </tr>\n",
       "  </tbody>\n",
       "</table>\n",
       "<p>5 rows × 26 columns</p>\n",
       "</div>"
      ],
      "text/plain": [
       "  Date of Interview Client name         Industry Location  \\\n",
       "0        13/02/2015     Hospira  Pharmaceuticals  Chennai   \n",
       "1        13/02/2015     Hospira  Pharmaceuticals  Chennai   \n",
       "2        13/02/2015     Hospira  Pharmaceuticals  Chennai   \n",
       "3        13/02/2015     Hospira  Pharmaceuticals  Chennai   \n",
       "4        13/02/2015     Hospira  Pharmaceuticals  Chennai   \n",
       "\n",
       "              Position Skillset    Interview Type Name(Cand ID) Gender  \\\n",
       "0  Production- Sterile  Routine  Scheduled Walkin   Candidate 1   Male   \n",
       "1  Production- Sterile  Routine  Scheduled Walkin   Candidate 2   Male   \n",
       "2  Production- Sterile  Routine  Scheduled Walkin   Candidate 3   Male   \n",
       "3  Production- Sterile  Routine  Scheduled Walkin   Candidate 4   Male   \n",
       "4  Production- Sterile  Routine  Scheduled Walkin   Candidate 5   Male   \n",
       "\n",
       "  Current Location  ... Alternate number Resume printout & JD Venue clear  \\\n",
       "0          Chennai  ...              Yes                  Yes         Yes   \n",
       "1          Chennai  ...              Yes                  Yes         Yes   \n",
       "2          Chennai  ...              NaN                  NaN         NaN   \n",
       "3          Chennai  ...              Yes                   No         Yes   \n",
       "4          Chennai  ...               No                  Yes         Yes   \n",
       "\n",
       "  Call letter shared Expected Attendance Observed Attendance Marital Status  \\\n",
       "0                Yes                 Yes                  No         Single   \n",
       "1                Yes                 Yes                  No         Single   \n",
       "2                NaN           Uncertain                  No         Single   \n",
       "3                Yes           Uncertain                  No         Single   \n",
       "4                Yes           Uncertain                  No        Married   \n",
       "\n",
       "   Year Month Day  \n",
       "0  2015    02  13  \n",
       "1  2015    02  13  \n",
       "2  2015    02  13  \n",
       "3  2015    02  13  \n",
       "4  2015    02  13  \n",
       "\n",
       "[5 rows x 26 columns]"
      ]
     },
     "execution_count": 14,
     "metadata": {},
     "output_type": "execute_result"
    }
   ],
   "source": [
    "data1.head()"
   ]
  },
  {
   "cell_type": "code",
   "execution_count": 15,
   "metadata": {},
   "outputs": [
    {
     "data": {
      "text/html": [
       "<div>\n",
       "<style scoped>\n",
       "    .dataframe tbody tr th:only-of-type {\n",
       "        vertical-align: middle;\n",
       "    }\n",
       "\n",
       "    .dataframe tbody tr th {\n",
       "        vertical-align: top;\n",
       "    }\n",
       "\n",
       "    .dataframe thead th {\n",
       "        text-align: right;\n",
       "    }\n",
       "</style>\n",
       "<table border=\"1\" class=\"dataframe\">\n",
       "  <thead>\n",
       "    <tr style=\"text-align: right;\">\n",
       "      <th></th>\n",
       "      <th>Date of Interview</th>\n",
       "      <th>Client name</th>\n",
       "      <th>Industry</th>\n",
       "      <th>Location</th>\n",
       "      <th>Position</th>\n",
       "      <th>Skillset</th>\n",
       "      <th>Interview Type</th>\n",
       "      <th>Name(Cand ID)</th>\n",
       "      <th>Gender</th>\n",
       "      <th>Current Location</th>\n",
       "      <th>...</th>\n",
       "      <th>Alternate number</th>\n",
       "      <th>Resume printout &amp; JD</th>\n",
       "      <th>Venue clear</th>\n",
       "      <th>Call letter shared</th>\n",
       "      <th>Expected Attendance</th>\n",
       "      <th>Observed Attendance</th>\n",
       "      <th>Marital Status</th>\n",
       "      <th>Year</th>\n",
       "      <th>Month</th>\n",
       "      <th>Day</th>\n",
       "    </tr>\n",
       "  </thead>\n",
       "  <tbody>\n",
       "    <tr>\n",
       "      <th>1227</th>\n",
       "      <td>07/05/2016</td>\n",
       "      <td>Pfizer</td>\n",
       "      <td>Pharmaceuticals</td>\n",
       "      <td>Chennai</td>\n",
       "      <td>Niche</td>\n",
       "      <td>generic drugs – RA</td>\n",
       "      <td>Scheduled</td>\n",
       "      <td>Candidate 1229</td>\n",
       "      <td>Male</td>\n",
       "      <td>Chennai</td>\n",
       "      <td>...</td>\n",
       "      <td>Yes</td>\n",
       "      <td>Yes</td>\n",
       "      <td>Yes</td>\n",
       "      <td>Yes</td>\n",
       "      <td>Yes</td>\n",
       "      <td>Yes</td>\n",
       "      <td>Married</td>\n",
       "      <td>2016</td>\n",
       "      <td>05</td>\n",
       "      <td>07</td>\n",
       "    </tr>\n",
       "    <tr>\n",
       "      <th>1228</th>\n",
       "      <td>07/05/2016</td>\n",
       "      <td>Pfizer</td>\n",
       "      <td>Pharmaceuticals</td>\n",
       "      <td>Chennai</td>\n",
       "      <td>Niche</td>\n",
       "      <td>Biosimiliars</td>\n",
       "      <td>Scheduled</td>\n",
       "      <td>Candidate 1230</td>\n",
       "      <td>Male</td>\n",
       "      <td>Chennai</td>\n",
       "      <td>...</td>\n",
       "      <td>Yes</td>\n",
       "      <td>Yes</td>\n",
       "      <td>Yes</td>\n",
       "      <td>Yes</td>\n",
       "      <td>Yes</td>\n",
       "      <td>Yes</td>\n",
       "      <td>Single</td>\n",
       "      <td>2016</td>\n",
       "      <td>05</td>\n",
       "      <td>07</td>\n",
       "    </tr>\n",
       "    <tr>\n",
       "      <th>1229</th>\n",
       "      <td>06/05/2016</td>\n",
       "      <td>Pfizer</td>\n",
       "      <td>Pharmaceuticals</td>\n",
       "      <td>Chennai</td>\n",
       "      <td>Niche</td>\n",
       "      <td>Biosimiliars</td>\n",
       "      <td>Scheduled</td>\n",
       "      <td>Candidate 1231</td>\n",
       "      <td>Male</td>\n",
       "      <td>Chennai</td>\n",
       "      <td>...</td>\n",
       "      <td>Yes</td>\n",
       "      <td>Yes</td>\n",
       "      <td>Yes</td>\n",
       "      <td>Yes</td>\n",
       "      <td>Yes</td>\n",
       "      <td>Yes</td>\n",
       "      <td>Married</td>\n",
       "      <td>2016</td>\n",
       "      <td>05</td>\n",
       "      <td>06</td>\n",
       "    </tr>\n",
       "    <tr>\n",
       "      <th>1230</th>\n",
       "      <td>06/05/2016</td>\n",
       "      <td>Pfizer</td>\n",
       "      <td>Pharmaceuticals</td>\n",
       "      <td>Chennai</td>\n",
       "      <td>Niche</td>\n",
       "      <td>generic drugs – RA</td>\n",
       "      <td>Scheduled</td>\n",
       "      <td>Candidate 1232</td>\n",
       "      <td>Male</td>\n",
       "      <td>Chennai</td>\n",
       "      <td>...</td>\n",
       "      <td>Yes</td>\n",
       "      <td>Yes</td>\n",
       "      <td>Yes</td>\n",
       "      <td>Yes</td>\n",
       "      <td>Yes</td>\n",
       "      <td>Yes</td>\n",
       "      <td>Single</td>\n",
       "      <td>2016</td>\n",
       "      <td>05</td>\n",
       "      <td>06</td>\n",
       "    </tr>\n",
       "    <tr>\n",
       "      <th>1231</th>\n",
       "      <td>06/05/2016</td>\n",
       "      <td>Pfizer</td>\n",
       "      <td>Pharmaceuticals</td>\n",
       "      <td>Chennai</td>\n",
       "      <td>Niche</td>\n",
       "      <td>generic drugs – RA</td>\n",
       "      <td>Scheduled</td>\n",
       "      <td>Candidate 1233</td>\n",
       "      <td>Female</td>\n",
       "      <td>Chennai</td>\n",
       "      <td>...</td>\n",
       "      <td>NaN</td>\n",
       "      <td>NaN</td>\n",
       "      <td>NaN</td>\n",
       "      <td>NaN</td>\n",
       "      <td>Uncertain</td>\n",
       "      <td>Yes</td>\n",
       "      <td>Single</td>\n",
       "      <td>2016</td>\n",
       "      <td>05</td>\n",
       "      <td>06</td>\n",
       "    </tr>\n",
       "  </tbody>\n",
       "</table>\n",
       "<p>5 rows × 26 columns</p>\n",
       "</div>"
      ],
      "text/plain": [
       "     Date of Interview Client name         Industry Location Position  \\\n",
       "1227        07/05/2016      Pfizer  Pharmaceuticals  Chennai    Niche   \n",
       "1228        07/05/2016      Pfizer  Pharmaceuticals  Chennai    Niche   \n",
       "1229        06/05/2016      Pfizer  Pharmaceuticals  Chennai    Niche   \n",
       "1230        06/05/2016      Pfizer  Pharmaceuticals  Chennai    Niche   \n",
       "1231        06/05/2016      Pfizer  Pharmaceuticals  Chennai    Niche   \n",
       "\n",
       "                Skillset Interview Type   Name(Cand ID)  Gender  \\\n",
       "1227  generic drugs – RA     Scheduled   Candidate 1229    Male   \n",
       "1228        Biosimiliars     Scheduled   Candidate 1230    Male   \n",
       "1229        Biosimiliars     Scheduled   Candidate 1231    Male   \n",
       "1230  generic drugs – RA     Scheduled   Candidate 1232    Male   \n",
       "1231  generic drugs – RA     Scheduled   Candidate 1233  Female   \n",
       "\n",
       "     Current Location  ... Alternate number Resume printout & JD Venue clear  \\\n",
       "1227          Chennai  ...              Yes                  Yes         Yes   \n",
       "1228          Chennai  ...              Yes                  Yes         Yes   \n",
       "1229          Chennai  ...              Yes                  Yes         Yes   \n",
       "1230          Chennai  ...              Yes                  Yes         Yes   \n",
       "1231          Chennai  ...              NaN                  NaN         NaN   \n",
       "\n",
       "     Call letter shared Expected Attendance Observed Attendance  \\\n",
       "1227                Yes                 Yes                 Yes   \n",
       "1228                Yes                 Yes                 Yes   \n",
       "1229                Yes                 Yes                 Yes   \n",
       "1230                Yes                 Yes                 Yes   \n",
       "1231                NaN           Uncertain                 Yes   \n",
       "\n",
       "     Marital Status  Year Month Day  \n",
       "1227        Married  2016    05  07  \n",
       "1228         Single  2016    05  07  \n",
       "1229        Married  2016    05  06  \n",
       "1230         Single  2016    05  06  \n",
       "1231         Single  2016    05  06  \n",
       "\n",
       "[5 rows x 26 columns]"
      ]
     },
     "execution_count": 15,
     "metadata": {},
     "output_type": "execute_result"
    }
   ],
   "source": [
    "data1.tail()"
   ]
  },
  {
   "cell_type": "code",
   "execution_count": 16,
   "metadata": {},
   "outputs": [],
   "source": [
    "# Drop old date column\n",
    "data1.drop(['Date of Interview'], axis = 1, inplace = True)"
   ]
  },
  {
   "cell_type": "code",
   "execution_count": 17,
   "metadata": {},
   "outputs": [
    {
     "data": {
      "text/plain": [
       "2016    1013\n",
       "2015     208\n",
       "2014       4\n",
       "2022       1\n",
       "2021       1\n",
       "2020       1\n",
       "2023       1\n",
       "2018       1\n",
       "2017       1\n",
       "2019       1\n",
       "Name: Year, dtype: int64"
      ]
     },
     "execution_count": 17,
     "metadata": {},
     "output_type": "execute_result"
    }
   ],
   "source": [
    "data1['Year'].value_counts()"
   ]
  },
  {
   "cell_type": "markdown",
   "metadata": {},
   "source": [
    "*** Most of the interviews are scheduled in the year 2016 followed by 2015. Very few in the coming years."
   ]
  },
  {
   "cell_type": "code",
   "execution_count": 18,
   "metadata": {},
   "outputs": [
    {
     "data": {
      "text/plain": [
       "Standard Chartered Bank            903\n",
       "Pfizer                              75\n",
       "Hospira                             75\n",
       "Aon Hewitt                          28\n",
       "Flextronics                         23\n",
       "ANZ                                 22\n",
       "Hewitt                              20\n",
       "UST                                 18\n",
       "Standard Chartered Bank Chennai     17\n",
       "Prodapt                             17\n",
       "Astrazeneca                         15\n",
       "Williams Lea                        11\n",
       "Barclays                             5\n",
       "Aon hewitt Gurgaon                   2\n",
       "Woori Bank                           1\n",
       "Name: Client name, dtype: int64"
      ]
     },
     "execution_count": 18,
     "metadata": {},
     "output_type": "execute_result"
    }
   ],
   "source": [
    "# Lets look into the Client_name column\n",
    "data1['Client name'].value_counts()"
   ]
  },
  {
   "cell_type": "code",
   "execution_count": 19,
   "metadata": {},
   "outputs": [],
   "source": [
    "# There are certain typos, so we group those names into a single client name\n",
    "data1['Client name'].replace(['Standard Chartered Bank Chennai', 'Aon hewitt Gurgaon', 'Hewitt'], ['Standard Chartered Bank', 'Aon Hewitt', 'Aon Hewitt'], inplace=True)"
   ]
  },
  {
   "cell_type": "code",
   "execution_count": 20,
   "metadata": {},
   "outputs": [
    {
     "data": {
      "text/plain": [
       "BFSI                        948\n",
       "Pharmaceuticals             165\n",
       "IT Products and Services     45\n",
       "IT Services                  23\n",
       "Electronics                  23\n",
       "Telecom                      17\n",
       "IT                           11\n",
       "Name: Industry, dtype: int64"
      ]
     },
     "execution_count": 20,
     "metadata": {},
     "output_type": "execute_result"
    }
   ],
   "source": [
    "# Analysis of Industry column\n",
    "data1['Industry'].value_counts()"
   ]
  },
  {
   "cell_type": "code",
   "execution_count": 21,
   "metadata": {},
   "outputs": [],
   "source": [
    "data1['Industry'].replace(['IT Products and Services', 'IT Services'], ['IT', 'IT'], inplace=True)"
   ]
  },
  {
   "cell_type": "code",
   "execution_count": 22,
   "metadata": {},
   "outputs": [
    {
     "data": {
      "text/plain": [
       "Chennai       754\n",
       "Bangalore     291\n",
       "chennai        86\n",
       "Hyderabad      38\n",
       "Gurgaon        33\n",
       "Noida          15\n",
       "- Cochin-       9\n",
       "chennai         3\n",
       "CHENNAI         1\n",
       "Delhi           1\n",
       "Gurgaonr        1\n",
       "Name: Location, dtype: int64"
      ]
     },
     "execution_count": 22,
     "metadata": {},
     "output_type": "execute_result"
    }
   ],
   "source": [
    "# Location column\n",
    "data1['Location'].value_counts()"
   ]
  },
  {
   "cell_type": "code",
   "execution_count": 23,
   "metadata": {},
   "outputs": [],
   "source": [
    "data1['Location'].replace(['CHENNAI','chennai','Gurgaonr','- Cochin-'], \n",
    "                              ['Chennai', 'Chennai', 'Gurgaon','Cochin'], inplace = True)"
   ]
  },
  {
   "cell_type": "code",
   "execution_count": 24,
   "metadata": {},
   "outputs": [
    {
     "data": {
      "text/plain": [
       "Routine                1022\n",
       "Niche                   163\n",
       "Dot Net                  18\n",
       "Trade Finance            11\n",
       "AML                       8\n",
       "Production- Sterile       5\n",
       "Selenium testing          5\n",
       "Name: Position, dtype: int64"
      ]
     },
     "execution_count": 24,
     "metadata": {},
     "output_type": "execute_result"
    }
   ],
   "source": [
    "data1['Position'].value_counts()"
   ]
  },
  {
   "cell_type": "markdown",
   "metadata": {},
   "source": [
    "*** All values in Position looks fine."
   ]
  },
  {
   "cell_type": "code",
   "execution_count": 25,
   "metadata": {},
   "outputs": [
    {
     "data": {
      "text/plain": [
       "Scheduled Walk In    456\n",
       "Scheduled            370\n",
       "Walkin               189\n",
       "Scheduled Walkin     189\n",
       "Walkin                27\n",
       "Sceduled walkin        1\n",
       "Name: Interview Type, dtype: int64"
      ]
     },
     "execution_count": 25,
     "metadata": {},
     "output_type": "execute_result"
    }
   ],
   "source": [
    "# Interview type column\n",
    "data1['Interview Type'].value_counts()"
   ]
  },
  {
   "cell_type": "code",
   "execution_count": 26,
   "metadata": {},
   "outputs": [],
   "source": [
    "data1['Interview Type'].replace(['Scheduled Walk In', 'Sceduled walkin'],\n",
    "                                       ['Scheduled Walkin', 'Scheduled Walkin'], inplace = True)"
   ]
  },
  {
   "cell_type": "code",
   "execution_count": 27,
   "metadata": {},
   "outputs": [
    {
     "data": {
      "text/plain": [
       "Male      964\n",
       "Female    268\n",
       "Name: Gender, dtype: int64"
      ]
     },
     "execution_count": 27,
     "metadata": {},
     "output_type": "execute_result"
    }
   ],
   "source": [
    "data1['Gender'].value_counts()"
   ]
  },
  {
   "cell_type": "markdown",
   "metadata": {},
   "source": [
    "*** Gender column is fine without typos."
   ]
  },
  {
   "cell_type": "code",
   "execution_count": 28,
   "metadata": {},
   "outputs": [
    {
     "data": {
      "text/plain": [
       "Chennai       754\n",
       "Bangalore     291\n",
       "chennai        86\n",
       "Hyderabad      38\n",
       "Gurgaon        34\n",
       "Noida          15\n",
       "- Cochin-       9\n",
       "chennai         3\n",
       "CHENNAI         1\n",
       "Delhi           1\n",
       "Name: Current Location, dtype: int64"
      ]
     },
     "execution_count": 28,
     "metadata": {},
     "output_type": "execute_result"
    }
   ],
   "source": [
    "data1['Current Location'].value_counts()"
   ]
  },
  {
   "cell_type": "code",
   "execution_count": 29,
   "metadata": {},
   "outputs": [],
   "source": [
    "data1['Current Location'].replace(['- Cochin-', 'chennai', 'CHENNAI'],['Cochin', 'Chennai', 'Chennai'], inplace = True)"
   ]
  },
  {
   "cell_type": "code",
   "execution_count": 30,
   "metadata": {},
   "outputs": [
    {
     "data": {
      "text/plain": [
       "Chennai          893\n",
       "Bangalore        258\n",
       "Gurgaon           35\n",
       "Visakapatinam     21\n",
       "Noida             15\n",
       "- Cochin-          9\n",
       "Hosur              1\n",
       "Name: Candidate Job Location, dtype: int64"
      ]
     },
     "execution_count": 30,
     "metadata": {},
     "output_type": "execute_result"
    }
   ],
   "source": [
    "data1['Candidate Job Location'].value_counts()"
   ]
  },
  {
   "cell_type": "code",
   "execution_count": 31,
   "metadata": {},
   "outputs": [],
   "source": [
    "data1['Candidate Job Location'].replace(['- Cochin-'],['Cochin'], inplace = True)"
   ]
  },
  {
   "cell_type": "code",
   "execution_count": 32,
   "metadata": {},
   "outputs": [
    {
     "data": {
      "text/plain": [
       "Chennai       852\n",
       "Bangalore     276\n",
       "Hyderabad      40\n",
       "Gurgaon        35\n",
       "Noida          15\n",
       "- Cochin-       9\n",
       "Hosur           5\n",
       "Name: Interview Venue, dtype: int64"
      ]
     },
     "execution_count": 32,
     "metadata": {},
     "output_type": "execute_result"
    }
   ],
   "source": [
    "data1['Interview Venue'].value_counts()"
   ]
  },
  {
   "cell_type": "code",
   "execution_count": 33,
   "metadata": {},
   "outputs": [],
   "source": [
    "data1['Interview Venue'].replace(['- Cochin-'],['Cochin'], inplace = True)"
   ]
  },
  {
   "cell_type": "code",
   "execution_count": 34,
   "metadata": {},
   "outputs": [
    {
     "data": {
      "text/plain": [
       "Chennai          595\n",
       "Hyderabad        172\n",
       "Bangalore        151\n",
       "Gurgaon           26\n",
       "Cuttack           25\n",
       "Cochin            24\n",
       "Pune              22\n",
       "Coimbatore        21\n",
       "Allahabad         20\n",
       "Noida             17\n",
       "Nagercoil         16\n",
       "Visakapatinam     16\n",
       "Kolkata           14\n",
       "Trivandrum        14\n",
       "Trichy            13\n",
       "Vellore           12\n",
       "Mumbai             7\n",
       "Chitoor            6\n",
       "Chandigarh         5\n",
       "- Cochin-          5\n",
       "Ahmedabad          5\n",
       "Pondicherry        5\n",
       "Vijayawada         4\n",
       "Delhi              4\n",
       "Warangal           3\n",
       "Salem              3\n",
       "Hosur              3\n",
       "Tirupati           3\n",
       "Delhi /NCR         2\n",
       "Patna              2\n",
       "Ambur              2\n",
       "Tuticorin          1\n",
       "Ghaziabad          1\n",
       "Belgaum            1\n",
       "Anantapur          1\n",
       "Panjim             1\n",
       "Kanpur             1\n",
       "Faizabad           1\n",
       "Kurnool            1\n",
       "Tanjore            1\n",
       "Mysore             1\n",
       "Bhubaneshwar       1\n",
       "Baddi              1\n",
       "Agra               1\n",
       "Lucknow            1\n",
       "Hissar             1\n",
       "Name: Native, dtype: int64"
      ]
     },
     "execution_count": 34,
     "metadata": {},
     "output_type": "execute_result"
    }
   ],
   "source": [
    "data1['Native'].value_counts()"
   ]
  },
  {
   "cell_type": "markdown",
   "metadata": {},
   "source": [
    "*** Most of the people giving interview are from the big cities like Chennai, Hyderabad and Bangalore"
   ]
  },
  {
   "cell_type": "code",
   "execution_count": 35,
   "metadata": {},
   "outputs": [],
   "source": [
    "data1['Native'].replace(['- Cochin-'],['Cochin'], inplace = True)"
   ]
  },
  {
   "cell_type": "code",
   "execution_count": 36,
   "metadata": {},
   "outputs": [
    {
     "data": {
      "text/plain": [
       "Yes               917\n",
       "No                 79\n",
       "Not yet            18\n",
       "Na                  5\n",
       "Yet to confirm      4\n",
       "yes                 4\n",
       "NO                  1\n",
       "Name: permission, dtype: int64"
      ]
     },
     "execution_count": 36,
     "metadata": {},
     "output_type": "execute_result"
    }
   ],
   "source": [
    "data1['permission'].value_counts()"
   ]
  },
  {
   "cell_type": "code",
   "execution_count": 37,
   "metadata": {},
   "outputs": [],
   "source": [
    "data1['permission'].replace(['NO', 'yes', 'yet to confirm'],['No','Yes', 'Not yet'], inplace = True)"
   ]
  },
  {
   "cell_type": "code",
   "execution_count": 38,
   "metadata": {},
   "outputs": [
    {
     "data": {
      "text/plain": [
       "Yes         948\n",
       "Na           20\n",
       "No            6\n",
       "yes           5\n",
       "Not sure      4\n",
       "cant Say      1\n",
       "Not Sure      1\n",
       "Name: meetings, dtype: int64"
      ]
     },
     "execution_count": 38,
     "metadata": {},
     "output_type": "execute_result"
    }
   ],
   "source": [
    "data1['meetings'].value_counts()"
   ]
  },
  {
   "cell_type": "code",
   "execution_count": 39,
   "metadata": {},
   "outputs": [],
   "source": [
    "data1['meetings'].replace(['Na', 'Not sure','Not Sure', 'cant Say', 'yes'], \n",
    "                              ['NA', 'unsure','unsure', 'unsure', 'Yes'], inplace = True)"
   ]
  },
  {
   "cell_type": "code",
   "execution_count": 40,
   "metadata": {},
   "outputs": [
    {
     "data": {
      "text/plain": [
       "Yes        950\n",
       "Na          20\n",
       "No          10\n",
       "yes          4\n",
       "No Dont      1\n",
       "Name: Reminder, dtype: int64"
      ]
     },
     "execution_count": 40,
     "metadata": {},
     "output_type": "execute_result"
    }
   ],
   "source": [
    "data1['Reminder'].value_counts()"
   ]
  },
  {
   "cell_type": "code",
   "execution_count": 41,
   "metadata": {},
   "outputs": [],
   "source": [
    "data1['Reminder'].replace(['Na', 'No Dont', 'yes'], \n",
    "                              ['NA', 'No', 'Yes'], inplace = True)"
   ]
  },
  {
   "cell_type": "code",
   "execution_count": 42,
   "metadata": {},
   "outputs": [
    {
     "data": {
      "text/plain": [
       "Yes                          935\n",
       "No                            27\n",
       "Na                            19\n",
       "No I have only thi number      2\n",
       "yes                            1\n",
       "na                             1\n",
       "Name: Alternate number, dtype: int64"
      ]
     },
     "execution_count": 42,
     "metadata": {},
     "output_type": "execute_result"
    }
   ],
   "source": [
    "data1['Alternate number'].value_counts()"
   ]
  },
  {
   "cell_type": "code",
   "execution_count": 43,
   "metadata": {},
   "outputs": [],
   "source": [
    "data1['Alternate number'].replace(['Na','na','No I have only thi number', 'yes'], \n",
    "                              ['NA', 'NA','No', 'Yes'], inplace = True)"
   ]
  },
  {
   "cell_type": "code",
   "execution_count": 44,
   "metadata": {},
   "outputs": [
    {
     "data": {
      "text/plain": [
       "Yes                      939\n",
       "Na                        19\n",
       "No                        16\n",
       "Not Yet                    4\n",
       "yes                        2\n",
       "Not yet                    2\n",
       "No- will take it soon      1\n",
       "na                         1\n",
       "Name: Resume printout & JD, dtype: int64"
      ]
     },
     "execution_count": 44,
     "metadata": {},
     "output_type": "execute_result"
    }
   ],
   "source": [
    "data1['Resume printout & JD'].value_counts()"
   ]
  },
  {
   "cell_type": "code",
   "execution_count": 45,
   "metadata": {},
   "outputs": [],
   "source": [
    "data1['Resume printout & JD'].replace(['Na','Not Yet','na','yes','No- will take it soon'], \n",
    "                              ['NA', 'Not yet', 'NA', 'Yes', 'No'], inplace = True)"
   ]
  },
  {
   "cell_type": "code",
   "execution_count": 46,
   "metadata": {},
   "outputs": [
    {
     "data": {
      "text/plain": [
       "Yes                    946\n",
       "Na                      19\n",
       "No                      14\n",
       "No- I need to check      2\n",
       "yes                      2\n",
       "na                       1\n",
       "Name: Venue clear, dtype: int64"
      ]
     },
     "execution_count": 46,
     "metadata": {},
     "output_type": "execute_result"
    }
   ],
   "source": [
    "data1['Venue clear'].value_counts()"
   ]
  },
  {
   "cell_type": "code",
   "execution_count": 47,
   "metadata": {},
   "outputs": [],
   "source": [
    "data1['Venue clear'].replace(['Na', 'na', 'no', 'yes', 'No- I need to check'], \n",
    "                              ['NA', 'NA','No', 'Yes', 'No'], inplace = True)"
   ]
  },
  {
   "cell_type": "code",
   "execution_count": 48,
   "metadata": {},
   "outputs": [
    {
     "data": {
      "text/plain": [
       "Yes               932\n",
       "Na                 19\n",
       "No                 17\n",
       "Not Sure            8\n",
       "Need To Check       3\n",
       "Not yet             2\n",
       "Havent Checked      1\n",
       "na                  1\n",
       "Not sure            1\n",
       "no                  1\n",
       "yes                 1\n",
       "Yet to Check        1\n",
       "Name: Call letter shared, dtype: int64"
      ]
     },
     "execution_count": 48,
     "metadata": {},
     "output_type": "execute_result"
    }
   ],
   "source": [
    "data1['Call letter shared'].value_counts()"
   ]
  },
  {
   "cell_type": "code",
   "execution_count": 49,
   "metadata": {},
   "outputs": [],
   "source": [
    "data1['Call letter shared'].replace(['Na', 'na', 'no', 'yes', 'Need To Check', 'Not yet', 'Not Sure'], \n",
    "                              ['NA', 'NA','No', 'Yes', 'Need to Check', 'No', 'Not sure'], inplace = True)"
   ]
  },
  {
   "cell_type": "code",
   "execution_count": 50,
   "metadata": {},
   "outputs": [
    {
     "data": {
      "text/plain": [
       "Yes          882\n",
       "Uncertain    250\n",
       "No            59\n",
       "NO            34\n",
       "10.30 Am       1\n",
       "yes            1\n",
       "Name: Expected Attendance, dtype: int64"
      ]
     },
     "execution_count": 50,
     "metadata": {},
     "output_type": "execute_result"
    }
   ],
   "source": [
    "data1['Expected Attendance'].value_counts()"
   ]
  },
  {
   "cell_type": "code",
   "execution_count": 51,
   "metadata": {},
   "outputs": [],
   "source": [
    "data1['Expected Attendance'].replace(['NO', 'yes','10.30 am'], \n",
    "                              ['No', 'Yes', 'NA'], inplace = True)"
   ]
  },
  {
   "cell_type": "code",
   "execution_count": 52,
   "metadata": {},
   "outputs": [
    {
     "data": {
      "text/plain": [
       "Yes     700\n",
       "No      401\n",
       "yes      81\n",
       "NO       35\n",
       "no        7\n",
       "No        6\n",
       "yes       1\n",
       "no        1\n",
       "Name: Observed Attendance, dtype: int64"
      ]
     },
     "execution_count": 52,
     "metadata": {},
     "output_type": "execute_result"
    }
   ],
   "source": [
    "data1['Observed Attendance'].value_counts()"
   ]
  },
  {
   "cell_type": "code",
   "execution_count": 53,
   "metadata": {},
   "outputs": [],
   "source": [
    "data1['Observed Attendance'].replace(['NO', 'yes','no', 'No ', 'no ', 'yes '], \n",
    "                              ['No', 'Yes', 'No', 'No', 'No', 'Yes'], inplace = True)"
   ]
  },
  {
   "cell_type": "code",
   "execution_count": 54,
   "metadata": {},
   "outputs": [
    {
     "data": {
      "text/plain": [
       "Single     767\n",
       "Married    465\n",
       "Name: Marital Status, dtype: int64"
      ]
     },
     "execution_count": 54,
     "metadata": {},
     "output_type": "execute_result"
    }
   ],
   "source": [
    "data1['Marital Status'].value_counts()"
   ]
  },
  {
   "cell_type": "markdown",
   "metadata": {},
   "source": [
    "*** Since there are more than 100 unique values in the skill set column, we will drop them for our analysis. Name of the candidate is also irrelevant in predicting the interview. Hence we drop that also."
   ]
  },
  {
   "cell_type": "code",
   "execution_count": 55,
   "metadata": {},
   "outputs": [],
   "source": [
    "data2 = data1.drop(['Skillset', 'Name(Cand ID)'], axis = 1)"
   ]
  },
  {
   "cell_type": "markdown",
   "metadata": {},
   "source": [
    "###   Removing missing values from the data frame if any"
   ]
  },
  {
   "cell_type": "code",
   "execution_count": 56,
   "metadata": {},
   "outputs": [
    {
     "data": {
      "text/plain": [
       "Client name                 0\n",
       "Industry                    0\n",
       "Location                    0\n",
       "Position                    0\n",
       "Interview Type              0\n",
       "Gender                      0\n",
       "Current Location            0\n",
       "Candidate Job Location      0\n",
       "Interview Venue             0\n",
       "Native                      0\n",
       "permission                204\n",
       "meetings                  267\n",
       "Reminder                  267\n",
       "Alternate number          267\n",
       "Resume printout & JD      268\n",
       "Venue clear               268\n",
       "Call letter shared        265\n",
       "Expected Attendance         5\n",
       "Observed Attendance         0\n",
       "Marital Status              0\n",
       "Year                        0\n",
       "Month                       0\n",
       "Day                         0\n",
       "dtype: int64"
      ]
     },
     "execution_count": 56,
     "metadata": {},
     "output_type": "execute_result"
    }
   ],
   "source": [
    "data2.replace(\"NA\", np.nan,inplace = True)\n",
    "data2.isnull().sum()"
   ]
  },
  {
   "cell_type": "markdown",
   "metadata": {},
   "source": [
    "*** Major missing values in columns like permission, meetings, Reminder, Alternate number, Resume printout & JD, Venue clear and Call letter shared."
   ]
  },
  {
   "cell_type": "markdown",
   "metadata": {},
   "source": [
    "*** Lets fill the missing values with forward fill and backward fill."
   ]
  },
  {
   "cell_type": "code",
   "execution_count": 57,
   "metadata": {},
   "outputs": [],
   "source": [
    "data3 = data2.ffill().bfill()"
   ]
  },
  {
   "cell_type": "code",
   "execution_count": 58,
   "metadata": {},
   "outputs": [
    {
     "data": {
      "text/plain": [
       "Client name               0\n",
       "Industry                  0\n",
       "Location                  0\n",
       "Position                  0\n",
       "Interview Type            0\n",
       "Gender                    0\n",
       "Current Location          0\n",
       "Candidate Job Location    0\n",
       "Interview Venue           0\n",
       "Native                    0\n",
       "permission                0\n",
       "meetings                  0\n",
       "Reminder                  0\n",
       "Alternate number          0\n",
       "Resume printout & JD      0\n",
       "Venue clear               0\n",
       "Call letter shared        0\n",
       "Expected Attendance       0\n",
       "Observed Attendance       0\n",
       "Marital Status            0\n",
       "Year                      0\n",
       "Month                     0\n",
       "Day                       0\n",
       "dtype: int64"
      ]
     },
     "execution_count": 58,
     "metadata": {},
     "output_type": "execute_result"
    }
   ],
   "source": [
    "data3.isnull().sum()"
   ]
  },
  {
   "cell_type": "code",
   "execution_count": 59,
   "metadata": {},
   "outputs": [],
   "source": [
    "cat_columns = data3[['Client name', 'Industry', 'Location', 'Position','Interview Type', 'Gender', 'Current Location', 'Candidate Job Location',\n",
    "                    'Interview Venue', 'Native', 'permission', 'meetings', 'Reminder', 'Alternate number', 'Resume printout & JD', 'Venue clear',\n",
    "                    'Call letter shared', 'Expected Attendance', 'Marital Status', 'Observed Attendance']]"
   ]
  },
  {
   "cell_type": "code",
   "execution_count": 60,
   "metadata": {},
   "outputs": [],
   "source": [
    "num_columns = data3[['Year', 'Day', 'Month']]"
   ]
  },
  {
   "cell_type": "markdown",
   "metadata": {},
   "source": [
    "###  Perform EDA and finding  correlation"
   ]
  },
  {
   "cell_type": "markdown",
   "metadata": {},
   "source": [
    "#### Gender Vs Observed Attendance"
   ]
  },
  {
   "cell_type": "code",
   "execution_count": 61,
   "metadata": {},
   "outputs": [
    {
     "data": {
      "text/plain": [
       "<matplotlib.axes._subplots.AxesSubplot at 0x1088b0fd0>"
      ]
     },
     "execution_count": 61,
     "metadata": {},
     "output_type": "execute_result"
    },
    {
     "data": {
      "image/png": "[encoded data removed]",
      "text/plain": [
       "<Figure size 432x288 with 1 Axes>"
      ]
     },
     "metadata": {
      "needs_background": "light"
     },
     "output_type": "display_data"
    }
   ],
   "source": [
    "gen = data3.groupby(['Gender', 'Observed Attendance']).size().unstack()\n",
    "gen.plot(kind = 'bar', stacked = True)"
   ]
  },
  {
   "cell_type": "code",
   "execution_count": 62,
   "metadata": {},
   "outputs": [
    {
     "data": {
      "text/html": [
       "<div>\n",
       "<style scoped>\n",
       "    .dataframe tbody tr th:only-of-type {\n",
       "        vertical-align: middle;\n",
       "    }\n",
       "\n",
       "    .dataframe tbody tr th {\n",
       "        vertical-align: top;\n",
       "    }\n",
       "\n",
       "    .dataframe thead th {\n",
       "        text-align: right;\n",
       "    }\n",
       "</style>\n",
       "<table border=\"1\" class=\"dataframe\">\n",
       "  <thead>\n",
       "    <tr style=\"text-align: right;\">\n",
       "      <th>Observed Attendance</th>\n",
       "      <th>No</th>\n",
       "      <th>Yes</th>\n",
       "      <th>perc</th>\n",
       "    </tr>\n",
       "    <tr>\n",
       "      <th>Gender</th>\n",
       "      <th></th>\n",
       "      <th></th>\n",
       "      <th></th>\n",
       "    </tr>\n",
       "  </thead>\n",
       "  <tbody>\n",
       "    <tr>\n",
       "      <th>Female</th>\n",
       "      <td>99</td>\n",
       "      <td>169</td>\n",
       "      <td>0.369403</td>\n",
       "    </tr>\n",
       "    <tr>\n",
       "      <th>Male</th>\n",
       "      <td>351</td>\n",
       "      <td>613</td>\n",
       "      <td>0.364108</td>\n",
       "    </tr>\n",
       "  </tbody>\n",
       "</table>\n",
       "</div>"
      ],
      "text/plain": [
       "Observed Attendance   No  Yes      perc\n",
       "Gender                                 \n",
       "Female                99  169  0.369403\n",
       "Male                 351  613  0.364108"
      ]
     },
     "execution_count": 62,
     "metadata": {},
     "output_type": "execute_result"
    }
   ],
   "source": [
    "gen['perc'] = (gen['No']/(gen['Yes'] + gen['No']))\n",
    "gen"
   ]
  },
  {
   "cell_type": "markdown",
   "metadata": {},
   "source": [
    "*** 36% of the male and female do not show up for the interview."
   ]
  },
  {
   "cell_type": "markdown",
   "metadata": {},
   "source": [
    "#### Marital Status Vs Observed Attendance"
   ]
  },
  {
   "cell_type": "code",
   "execution_count": 63,
   "metadata": {},
   "outputs": [
    {
     "data": {
      "text/plain": [
       "<matplotlib.axes._subplots.AxesSubplot at 0x108874a58>"
      ]
     },
     "execution_count": 63,
     "metadata": {},
     "output_type": "execute_result"
    },
    {
     "data": {
      "image/png": "[encoded data removed]",
      "text/plain": [
       "<Figure size 432x288 with 1 Axes>"
      ]
     },
     "metadata": {
      "needs_background": "light"
     },
     "output_type": "display_data"
    }
   ],
   "source": [
    "mar = data3.groupby(['Marital Status', 'Observed Attendance']).size().unstack()\n",
    "mar.plot(kind = 'bar', stacked = True)"
   ]
  },
  {
   "cell_type": "code",
   "execution_count": 64,
   "metadata": {},
   "outputs": [
    {
     "data": {
      "text/html": [
       "<div>\n",
       "<style scoped>\n",
       "    .dataframe tbody tr th:only-of-type {\n",
       "        vertical-align: middle;\n",
       "    }\n",
       "\n",
       "    .dataframe tbody tr th {\n",
       "        vertical-align: top;\n",
       "    }\n",
       "\n",
       "    .dataframe thead th {\n",
       "        text-align: right;\n",
       "    }\n",
       "</style>\n",
       "<table border=\"1\" class=\"dataframe\">\n",
       "  <thead>\n",
       "    <tr style=\"text-align: right;\">\n",
       "      <th>Observed Attendance</th>\n",
       "      <th>No</th>\n",
       "      <th>Yes</th>\n",
       "      <th>perc</th>\n",
       "    </tr>\n",
       "    <tr>\n",
       "      <th>Marital Status</th>\n",
       "      <th></th>\n",
       "      <th></th>\n",
       "      <th></th>\n",
       "    </tr>\n",
       "  </thead>\n",
       "  <tbody>\n",
       "    <tr>\n",
       "      <th>Married</th>\n",
       "      <td>176</td>\n",
       "      <td>289</td>\n",
       "      <td>0.378495</td>\n",
       "    </tr>\n",
       "    <tr>\n",
       "      <th>Single</th>\n",
       "      <td>274</td>\n",
       "      <td>493</td>\n",
       "      <td>0.357236</td>\n",
       "    </tr>\n",
       "  </tbody>\n",
       "</table>\n",
       "</div>"
      ],
      "text/plain": [
       "Observed Attendance   No  Yes      perc\n",
       "Marital Status                         \n",
       "Married              176  289  0.378495\n",
       "Single               274  493  0.357236"
      ]
     },
     "execution_count": 64,
     "metadata": {},
     "output_type": "execute_result"
    }
   ],
   "source": [
    "mar['perc'] = (mar['No']/(mar['Yes'] + mar['No']))\n",
    "mar"
   ]
  },
  {
   "cell_type": "markdown",
   "metadata": {},
   "source": [
    "*** 37% of married people do not show up for the interview. Married people have more responsibilities after marriage."
   ]
  },
  {
   "cell_type": "markdown",
   "metadata": {},
   "source": [
    "#### Call letter shared vs Observed Attendance"
   ]
  },
  {
   "cell_type": "code",
   "execution_count": 65,
   "metadata": {},
   "outputs": [
    {
     "data": {
      "text/plain": [
       "<matplotlib.axes._subplots.AxesSubplot at 0x1a1ca4e128>"
      ]
     },
     "execution_count": 65,
     "metadata": {},
     "output_type": "execute_result"
    },
    {
     "data": {
      "image/png": "[encoded data removed]",
      "text/plain": [
       "<Figure size 432x288 with 1 Axes>"
      ]
     },
     "metadata": {
      "needs_background": "light"
     },
     "output_type": "display_data"
    }
   ],
   "source": [
    "call = data3.groupby(['Call letter shared', 'Observed Attendance']).size().unstack()\n",
    "call.plot(kind = 'bar', stacked = True)"
   ]
  },
  {
   "cell_type": "code",
   "execution_count": 66,
   "metadata": {},
   "outputs": [
    {
     "data": {
      "text/plain": [
       "Call letter shared\n",
       "Havent Checked         NaN\n",
       "Need to Check          NaN\n",
       "No                0.769231\n",
       "Not sure          0.888889\n",
       "Yes               0.351510\n",
       "Yet to Check           NaN\n",
       "Name: perc, dtype: float64"
      ]
     },
     "execution_count": 66,
     "metadata": {},
     "output_type": "execute_result"
    }
   ],
   "source": [
    "call['perc'] = (call['No']/(call['No'] + call['Yes']))\n",
    "call['perc']"
   ]
  },
  {
   "cell_type": "markdown",
   "metadata": {},
   "source": [
    "*** 35% of the people who got call letters still didn't attend the interviews."
   ]
  },
  {
   "cell_type": "markdown",
   "metadata": {},
   "source": [
    "#### Reminder Vs Observed Attendance"
   ]
  },
  {
   "cell_type": "code",
   "execution_count": 67,
   "metadata": {},
   "outputs": [
    {
     "data": {
      "text/plain": [
       "<matplotlib.axes._subplots.AxesSubplot at 0x1a1cb3b0f0>"
      ]
     },
     "execution_count": 67,
     "metadata": {},
     "output_type": "execute_result"
    },
    {
     "data": {
      "image/png": "[encoded data removed]",
      "text/plain": [
       "<Figure size 432x288 with 1 Axes>"
      ]
     },
     "metadata": {
      "needs_background": "light"
     },
     "output_type": "display_data"
    }
   ],
   "source": [
    "rem = data3.groupby(['Reminder', 'Observed Attendance']).size().unstack()\n",
    "rem.plot(kind = 'bar', stacked = True)"
   ]
  },
  {
   "cell_type": "code",
   "execution_count": 68,
   "metadata": {},
   "outputs": [
    {
     "data": {
      "text/html": [
       "<div>\n",
       "<style scoped>\n",
       "    .dataframe tbody tr th:only-of-type {\n",
       "        vertical-align: middle;\n",
       "    }\n",
       "\n",
       "    .dataframe tbody tr th {\n",
       "        vertical-align: top;\n",
       "    }\n",
       "\n",
       "    .dataframe thead th {\n",
       "        text-align: right;\n",
       "    }\n",
       "</style>\n",
       "<table border=\"1\" class=\"dataframe\">\n",
       "  <thead>\n",
       "    <tr style=\"text-align: right;\">\n",
       "      <th>Observed Attendance</th>\n",
       "      <th>No</th>\n",
       "      <th>Yes</th>\n",
       "      <th>perc</th>\n",
       "    </tr>\n",
       "    <tr>\n",
       "      <th>Reminder</th>\n",
       "      <th></th>\n",
       "      <th></th>\n",
       "      <th></th>\n",
       "    </tr>\n",
       "  </thead>\n",
       "  <tbody>\n",
       "    <tr>\n",
       "      <th>No</th>\n",
       "      <td>10</td>\n",
       "      <td>9</td>\n",
       "      <td>0.526316</td>\n",
       "    </tr>\n",
       "    <tr>\n",
       "      <th>Yes</th>\n",
       "      <td>440</td>\n",
       "      <td>773</td>\n",
       "      <td>0.362737</td>\n",
       "    </tr>\n",
       "  </tbody>\n",
       "</table>\n",
       "</div>"
      ],
      "text/plain": [
       "Observed Attendance   No  Yes      perc\n",
       "Reminder                               \n",
       "No                    10    9  0.526316\n",
       "Yes                  440  773  0.362737"
      ]
     },
     "execution_count": 68,
     "metadata": {},
     "output_type": "execute_result"
    }
   ],
   "source": [
    "rem['perc'] = (rem['No']/(rem['Yes'] + rem['No']))\n",
    "rem"
   ]
  },
  {
   "cell_type": "markdown",
   "metadata": {},
   "source": [
    "*** 36% of people got reminders but didn't attend the interviews. They are not giving importance to the reminders sent to them in advance."
   ]
  },
  {
   "cell_type": "markdown",
   "metadata": {},
   "source": [
    "####  Month vs Observed Attendance"
   ]
  },
  {
   "cell_type": "code",
   "execution_count": 69,
   "metadata": {},
   "outputs": [
    {
     "data": {
      "text/plain": [
       "02    304\n",
       "04    178\n",
       "06    107\n",
       "12    105\n",
       "01     89\n",
       "05     86\n",
       "4      68\n",
       "5      66\n",
       "03     63\n",
       "09     43\n",
       "08     36\n",
       "1      32\n",
       "11     25\n",
       "6      14\n",
       "8       9\n",
       "2       7\n",
       "Name: Month, dtype: int64"
      ]
     },
     "execution_count": 69,
     "metadata": {},
     "output_type": "execute_result"
    }
   ],
   "source": [
    "data3['Month'].value_counts()\n",
    "# Lets make month format uniform"
   ]
  },
  {
   "cell_type": "code",
   "execution_count": 70,
   "metadata": {},
   "outputs": [],
   "source": [
    "data3['Month'].replace(['5', '4','1','6', '8', '2'], \n",
    "                        ['05', '04', '01', '06', '08', '02'], inplace = True)"
   ]
  },
  {
   "cell_type": "code",
   "execution_count": 71,
   "metadata": {},
   "outputs": [
    {
     "data": {
      "text/plain": [
       "<matplotlib.axes._subplots.AxesSubplot at 0x1088975c0>"
      ]
     },
     "execution_count": 71,
     "metadata": {},
     "output_type": "execute_result"
    },
    {
     "data": {
      "image/png": "[encoded data removed]",
      "text/plain": [
       "<Figure size 432x288 with 1 Axes>"
      ]
     },
     "metadata": {
      "needs_background": "light"
     },
     "output_type": "display_data"
    }
   ],
   "source": [
    "mon = data3.groupby(['Month', 'Observed Attendance']).size().unstack()\n",
    "mon.plot(kind = 'bar', stacked = True)"
   ]
  },
  {
   "cell_type": "code",
   "execution_count": 72,
   "metadata": {},
   "outputs": [
    {
     "data": {
      "text/html": [
       "<div>\n",
       "<style scoped>\n",
       "    .dataframe tbody tr th:only-of-type {\n",
       "        vertical-align: middle;\n",
       "    }\n",
       "\n",
       "    .dataframe tbody tr th {\n",
       "        vertical-align: top;\n",
       "    }\n",
       "\n",
       "    .dataframe thead th {\n",
       "        text-align: right;\n",
       "    }\n",
       "</style>\n",
       "<table border=\"1\" class=\"dataframe\">\n",
       "  <thead>\n",
       "    <tr style=\"text-align: right;\">\n",
       "      <th>Observed Attendance</th>\n",
       "      <th>No</th>\n",
       "      <th>Yes</th>\n",
       "      <th>perc</th>\n",
       "    </tr>\n",
       "    <tr>\n",
       "      <th>Month</th>\n",
       "      <th></th>\n",
       "      <th></th>\n",
       "      <th></th>\n",
       "    </tr>\n",
       "  </thead>\n",
       "  <tbody>\n",
       "    <tr>\n",
       "      <th>01</th>\n",
       "      <td>39</td>\n",
       "      <td>82</td>\n",
       "      <td>0.322314</td>\n",
       "    </tr>\n",
       "    <tr>\n",
       "      <th>02</th>\n",
       "      <td>117</td>\n",
       "      <td>194</td>\n",
       "      <td>0.376206</td>\n",
       "    </tr>\n",
       "    <tr>\n",
       "      <th>03</th>\n",
       "      <td>26</td>\n",
       "      <td>37</td>\n",
       "      <td>0.412698</td>\n",
       "    </tr>\n",
       "    <tr>\n",
       "      <th>04</th>\n",
       "      <td>108</td>\n",
       "      <td>138</td>\n",
       "      <td>0.439024</td>\n",
       "    </tr>\n",
       "    <tr>\n",
       "      <th>05</th>\n",
       "      <td>40</td>\n",
       "      <td>112</td>\n",
       "      <td>0.263158</td>\n",
       "    </tr>\n",
       "    <tr>\n",
       "      <th>06</th>\n",
       "      <td>41</td>\n",
       "      <td>80</td>\n",
       "      <td>0.338843</td>\n",
       "    </tr>\n",
       "    <tr>\n",
       "      <th>08</th>\n",
       "      <td>16</td>\n",
       "      <td>29</td>\n",
       "      <td>0.355556</td>\n",
       "    </tr>\n",
       "    <tr>\n",
       "      <th>09</th>\n",
       "      <td>16</td>\n",
       "      <td>27</td>\n",
       "      <td>0.372093</td>\n",
       "    </tr>\n",
       "    <tr>\n",
       "      <th>11</th>\n",
       "      <td>12</td>\n",
       "      <td>13</td>\n",
       "      <td>0.480000</td>\n",
       "    </tr>\n",
       "    <tr>\n",
       "      <th>12</th>\n",
       "      <td>35</td>\n",
       "      <td>70</td>\n",
       "      <td>0.333333</td>\n",
       "    </tr>\n",
       "  </tbody>\n",
       "</table>\n",
       "</div>"
      ],
      "text/plain": [
       "Observed Attendance   No  Yes      perc\n",
       "Month                                  \n",
       "01                    39   82  0.322314\n",
       "02                   117  194  0.376206\n",
       "03                    26   37  0.412698\n",
       "04                   108  138  0.439024\n",
       "05                    40  112  0.263158\n",
       "06                    41   80  0.338843\n",
       "08                    16   29  0.355556\n",
       "09                    16   27  0.372093\n",
       "11                    12   13  0.480000\n",
       "12                    35   70  0.333333"
      ]
     },
     "execution_count": 72,
     "metadata": {},
     "output_type": "execute_result"
    }
   ],
   "source": [
    "mon['perc'] = (mon['No']/(mon['Yes'] + mon['No']))\n",
    "mon"
   ]
  },
  {
   "cell_type": "markdown",
   "metadata": {},
   "source": [
    "*** 48% people in Nov didn't show up for interview due to holiday season. Most people show up for interview(only 26% not showing up) in the month of May because the new financial year starts and because of appraisals in the current company."
   ]
  },
  {
   "cell_type": "markdown",
   "metadata": {},
   "source": [
    "#### Interview Venue Vs Observed Attendance"
   ]
  },
  {
   "cell_type": "code",
   "execution_count": 73,
   "metadata": {},
   "outputs": [
    {
     "data": {
      "text/plain": [
       "<matplotlib.axes._subplots.AxesSubplot at 0x1a1cd2d630>"
      ]
     },
     "execution_count": 73,
     "metadata": {},
     "output_type": "execute_result"
    },
    {
     "data": {
      "image/png": "[encoded data removed]",
      "text/plain": [
       "<Figure size 432x288 with 1 Axes>"
      ]
     },
     "metadata": {
      "needs_background": "light"
     },
     "output_type": "display_data"
    }
   ],
   "source": [
    "ven = data3.groupby(['Interview Venue', 'Observed Attendance']).size().unstack()\n",
    "ven.plot(kind = 'bar', stacked = True)"
   ]
  },
  {
   "cell_type": "code",
   "execution_count": 74,
   "metadata": {},
   "outputs": [
    {
     "data": {
      "text/html": [
       "<div>\n",
       "<style scoped>\n",
       "    .dataframe tbody tr th:only-of-type {\n",
       "        vertical-align: middle;\n",
       "    }\n",
       "\n",
       "    .dataframe tbody tr th {\n",
       "        vertical-align: top;\n",
       "    }\n",
       "\n",
       "    .dataframe thead th {\n",
       "        text-align: right;\n",
       "    }\n",
       "</style>\n",
       "<table border=\"1\" class=\"dataframe\">\n",
       "  <thead>\n",
       "    <tr style=\"text-align: right;\">\n",
       "      <th>Observed Attendance</th>\n",
       "      <th>No</th>\n",
       "      <th>Yes</th>\n",
       "      <th>perc</th>\n",
       "    </tr>\n",
       "    <tr>\n",
       "      <th>Interview Venue</th>\n",
       "      <th></th>\n",
       "      <th></th>\n",
       "      <th></th>\n",
       "    </tr>\n",
       "  </thead>\n",
       "  <tbody>\n",
       "    <tr>\n",
       "      <th>- Cochin-</th>\n",
       "      <td>3.0</td>\n",
       "      <td>6.0</td>\n",
       "      <td>0.333333</td>\n",
       "    </tr>\n",
       "    <tr>\n",
       "      <th>Bangalore</th>\n",
       "      <td>94.0</td>\n",
       "      <td>182.0</td>\n",
       "      <td>0.340580</td>\n",
       "    </tr>\n",
       "    <tr>\n",
       "      <th>Chennai</th>\n",
       "      <td>325.0</td>\n",
       "      <td>527.0</td>\n",
       "      <td>0.381455</td>\n",
       "    </tr>\n",
       "    <tr>\n",
       "      <th>Gurgaon</th>\n",
       "      <td>10.0</td>\n",
       "      <td>25.0</td>\n",
       "      <td>0.285714</td>\n",
       "    </tr>\n",
       "    <tr>\n",
       "      <th>Hosur</th>\n",
       "      <td>5.0</td>\n",
       "      <td>NaN</td>\n",
       "      <td>NaN</td>\n",
       "    </tr>\n",
       "    <tr>\n",
       "      <th>Hyderabad</th>\n",
       "      <td>12.0</td>\n",
       "      <td>28.0</td>\n",
       "      <td>0.300000</td>\n",
       "    </tr>\n",
       "    <tr>\n",
       "      <th>Noida</th>\n",
       "      <td>1.0</td>\n",
       "      <td>14.0</td>\n",
       "      <td>0.066667</td>\n",
       "    </tr>\n",
       "  </tbody>\n",
       "</table>\n",
       "</div>"
      ],
      "text/plain": [
       "Observed Attendance     No    Yes      perc\n",
       "Interview Venue                            \n",
       "- Cochin-              3.0    6.0  0.333333\n",
       "Bangalore             94.0  182.0  0.340580\n",
       "Chennai              325.0  527.0  0.381455\n",
       "Gurgaon               10.0   25.0  0.285714\n",
       "Hosur                  5.0    NaN       NaN\n",
       "Hyderabad             12.0   28.0  0.300000\n",
       "Noida                  1.0   14.0  0.066667"
      ]
     },
     "execution_count": 74,
     "metadata": {},
     "output_type": "execute_result"
    }
   ],
   "source": [
    "ven['perc'] = (ven['No']/(ven['Yes'] + ven['No']))\n",
    "ven"
   ]
  },
  {
   "cell_type": "markdown",
   "metadata": {},
   "source": [
    "*** None of the candidates from Hosur is attending the interview and 38% (highest) of people dont attend interview in Chennai location. Almost 99% of people in Noida did attend the interview."
   ]
  },
  {
   "cell_type": "markdown",
   "metadata": {},
   "source": [
    "#### Label encoding - Convert all categorical data to numerical columns for easy caluclation and understanding."
   ]
  },
  {
   "cell_type": "code",
   "execution_count": 75,
   "metadata": {},
   "outputs": [
    {
     "name": "stderr",
     "output_type": "stream",
     "text": [
      "/anaconda3/lib/python3.7/site-packages/ipykernel_launcher.py:5: SettingWithCopyWarning: \n",
      "A value is trying to be set on a copy of a slice from a DataFrame.\n",
      "Try using .loc[row_indexer,col_indexer] = value instead\n",
      "\n",
      "See the caveats in the documentation: http://pandas.pydata.org/pandas-docs/stable/indexing.html#indexing-view-versus-copy\n",
      "  \"\"\"\n"
     ]
    }
   ],
   "source": [
    "from sklearn.preprocessing import LabelEncoder\n",
    "le = LabelEncoder()\n",
    "\n",
    "for col in cat_columns.columns:\n",
    "    cat_columns[col] = le.fit_transform(cat_columns[col])"
   ]
  },
  {
   "cell_type": "code",
   "execution_count": 76,
   "metadata": {},
   "outputs": [],
   "source": [
    "TransformedData = pd.DataFrame(cat_columns)"
   ]
  },
  {
   "cell_type": "code",
   "execution_count": 77,
   "metadata": {},
   "outputs": [
    {
     "data": {
      "text/html": [
       "<div>\n",
       "<style scoped>\n",
       "    .dataframe tbody tr th:only-of-type {\n",
       "        vertical-align: middle;\n",
       "    }\n",
       "\n",
       "    .dataframe tbody tr th {\n",
       "        vertical-align: top;\n",
       "    }\n",
       "\n",
       "    .dataframe thead th {\n",
       "        text-align: right;\n",
       "    }\n",
       "</style>\n",
       "<table border=\"1\" class=\"dataframe\">\n",
       "  <thead>\n",
       "    <tr style=\"text-align: right;\">\n",
       "      <th></th>\n",
       "      <th>Client name</th>\n",
       "      <th>Industry</th>\n",
       "      <th>Location</th>\n",
       "      <th>Position</th>\n",
       "      <th>Interview Type</th>\n",
       "      <th>Gender</th>\n",
       "      <th>Current Location</th>\n",
       "      <th>Candidate Job Location</th>\n",
       "      <th>Interview Venue</th>\n",
       "      <th>Native</th>\n",
       "      <th>permission</th>\n",
       "      <th>meetings</th>\n",
       "      <th>Reminder</th>\n",
       "      <th>Alternate number</th>\n",
       "      <th>Resume printout &amp; JD</th>\n",
       "      <th>Venue clear</th>\n",
       "      <th>Call letter shared</th>\n",
       "      <th>Expected Attendance</th>\n",
       "      <th>Marital Status</th>\n",
       "      <th>Observed Attendance</th>\n",
       "    </tr>\n",
       "  </thead>\n",
       "  <tbody>\n",
       "    <tr>\n",
       "      <th>0</th>\n",
       "      <td>5</td>\n",
       "      <td>3</td>\n",
       "      <td>2</td>\n",
       "      <td>3</td>\n",
       "      <td>1</td>\n",
       "      <td>1</td>\n",
       "      <td>2</td>\n",
       "      <td>4</td>\n",
       "      <td>4</td>\n",
       "      <td>22</td>\n",
       "      <td>3</td>\n",
       "      <td>1</td>\n",
       "      <td>1</td>\n",
       "      <td>1</td>\n",
       "      <td>2</td>\n",
       "      <td>1</td>\n",
       "      <td>4</td>\n",
       "      <td>3</td>\n",
       "      <td>1</td>\n",
       "      <td>0</td>\n",
       "    </tr>\n",
       "    <tr>\n",
       "      <th>1</th>\n",
       "      <td>5</td>\n",
       "      <td>3</td>\n",
       "      <td>2</td>\n",
       "      <td>3</td>\n",
       "      <td>1</td>\n",
       "      <td>1</td>\n",
       "      <td>2</td>\n",
       "      <td>1</td>\n",
       "      <td>4</td>\n",
       "      <td>39</td>\n",
       "      <td>3</td>\n",
       "      <td>1</td>\n",
       "      <td>1</td>\n",
       "      <td>1</td>\n",
       "      <td>2</td>\n",
       "      <td>1</td>\n",
       "      <td>4</td>\n",
       "      <td>3</td>\n",
       "      <td>1</td>\n",
       "      <td>0</td>\n",
       "    </tr>\n",
       "    <tr>\n",
       "      <th>2</th>\n",
       "      <td>5</td>\n",
       "      <td>3</td>\n",
       "      <td>2</td>\n",
       "      <td>3</td>\n",
       "      <td>1</td>\n",
       "      <td>1</td>\n",
       "      <td>2</td>\n",
       "      <td>2</td>\n",
       "      <td>4</td>\n",
       "      <td>11</td>\n",
       "      <td>3</td>\n",
       "      <td>1</td>\n",
       "      <td>1</td>\n",
       "      <td>1</td>\n",
       "      <td>2</td>\n",
       "      <td>1</td>\n",
       "      <td>4</td>\n",
       "      <td>2</td>\n",
       "      <td>1</td>\n",
       "      <td>0</td>\n",
       "    </tr>\n",
       "    <tr>\n",
       "      <th>3</th>\n",
       "      <td>5</td>\n",
       "      <td>3</td>\n",
       "      <td>2</td>\n",
       "      <td>3</td>\n",
       "      <td>1</td>\n",
       "      <td>1</td>\n",
       "      <td>2</td>\n",
       "      <td>2</td>\n",
       "      <td>4</td>\n",
       "      <td>11</td>\n",
       "      <td>3</td>\n",
       "      <td>1</td>\n",
       "      <td>0</td>\n",
       "      <td>1</td>\n",
       "      <td>0</td>\n",
       "      <td>1</td>\n",
       "      <td>4</td>\n",
       "      <td>2</td>\n",
       "      <td>1</td>\n",
       "      <td>0</td>\n",
       "    </tr>\n",
       "    <tr>\n",
       "      <th>4</th>\n",
       "      <td>5</td>\n",
       "      <td>3</td>\n",
       "      <td>2</td>\n",
       "      <td>3</td>\n",
       "      <td>1</td>\n",
       "      <td>1</td>\n",
       "      <td>2</td>\n",
       "      <td>1</td>\n",
       "      <td>4</td>\n",
       "      <td>11</td>\n",
       "      <td>3</td>\n",
       "      <td>1</td>\n",
       "      <td>1</td>\n",
       "      <td>0</td>\n",
       "      <td>2</td>\n",
       "      <td>1</td>\n",
       "      <td>4</td>\n",
       "      <td>2</td>\n",
       "      <td>0</td>\n",
       "      <td>0</td>\n",
       "    </tr>\n",
       "  </tbody>\n",
       "</table>\n",
       "</div>"
      ],
      "text/plain": [
       "   Client name  Industry  Location  Position  Interview Type  Gender  \\\n",
       "0            5         3         2         3               1       1   \n",
       "1            5         3         2         3               1       1   \n",
       "2            5         3         2         3               1       1   \n",
       "3            5         3         2         3               1       1   \n",
       "4            5         3         2         3               1       1   \n",
       "\n",
       "   Current Location  Candidate Job Location  Interview Venue  Native  \\\n",
       "0                 2                       4                4      22   \n",
       "1                 2                       1                4      39   \n",
       "2                 2                       2                4      11   \n",
       "3                 2                       2                4      11   \n",
       "4                 2                       1                4      11   \n",
       "\n",
       "   permission  meetings  Reminder  Alternate number  Resume printout & JD  \\\n",
       "0           3         1         1                 1                     2   \n",
       "1           3         1         1                 1                     2   \n",
       "2           3         1         1                 1                     2   \n",
       "3           3         1         0                 1                     0   \n",
       "4           3         1         1                 0                     2   \n",
       "\n",
       "   Venue clear  Call letter shared  Expected Attendance  Marital Status  \\\n",
       "0            1                   4                    3               1   \n",
       "1            1                   4                    3               1   \n",
       "2            1                   4                    2               1   \n",
       "3            1                   4                    2               1   \n",
       "4            1                   4                    2               0   \n",
       "\n",
       "   Observed Attendance  \n",
       "0                    0  \n",
       "1                    0  \n",
       "2                    0  \n",
       "3                    0  \n",
       "4                    0  "
      ]
     },
     "execution_count": 77,
     "metadata": {},
     "output_type": "execute_result"
    }
   ],
   "source": [
    "TransformedData.head()"
   ]
  },
  {
   "cell_type": "markdown",
   "metadata": {},
   "source": [
    "#### Correlation "
   ]
  },
  {
   "cell_type": "code",
   "execution_count": 78,
   "metadata": {},
   "outputs": [
    {
     "data": {
      "text/plain": [
       "<matplotlib.axes._subplots.AxesSubplot at 0x1a1b57fa20>"
      ]
     },
     "execution_count": 78,
     "metadata": {},
     "output_type": "execute_result"
    },
    {
     "data": {
      "image/png": "[encoded data removed]",
      "text/plain": [
       "<Figure size 1440x1440 with 2 Axes>"
      ]
     },
     "metadata": {
      "needs_background": "light"
     },
     "output_type": "display_data"
    }
   ],
   "source": [
    "plt.figure(figsize=(20,20))\n",
    "corr = np.round(TransformedData.corr(), 2)\n",
    "sns.heatmap(corr, cmap='BuGn', annot=True)"
   ]
  },
  {
   "cell_type": "markdown",
   "metadata": {},
   "source": [
    "*** Location and interview venue are highly correlated and hence can be dropped from df."
   ]
  },
  {
   "cell_type": "code",
   "execution_count": 79,
   "metadata": {},
   "outputs": [],
   "source": [
    "TransformedData.drop(['Location', 'Interview Venue'], axis=1, inplace=True)"
   ]
  },
  {
   "cell_type": "code",
   "execution_count": 80,
   "metadata": {},
   "outputs": [
    {
     "data": {
      "text/html": [
       "<div>\n",
       "<style scoped>\n",
       "    .dataframe tbody tr th:only-of-type {\n",
       "        vertical-align: middle;\n",
       "    }\n",
       "\n",
       "    .dataframe tbody tr th {\n",
       "        vertical-align: top;\n",
       "    }\n",
       "\n",
       "    .dataframe thead th {\n",
       "        text-align: right;\n",
       "    }\n",
       "</style>\n",
       "<table border=\"1\" class=\"dataframe\">\n",
       "  <thead>\n",
       "    <tr style=\"text-align: right;\">\n",
       "      <th></th>\n",
       "      <th>Client name</th>\n",
       "      <th>Industry</th>\n",
       "      <th>Position</th>\n",
       "      <th>Interview Type</th>\n",
       "      <th>Gender</th>\n",
       "      <th>Current Location</th>\n",
       "      <th>Candidate Job Location</th>\n",
       "      <th>Native</th>\n",
       "      <th>permission</th>\n",
       "      <th>meetings</th>\n",
       "      <th>Reminder</th>\n",
       "      <th>Alternate number</th>\n",
       "      <th>Resume printout &amp; JD</th>\n",
       "      <th>Venue clear</th>\n",
       "      <th>Call letter shared</th>\n",
       "      <th>Expected Attendance</th>\n",
       "      <th>Marital Status</th>\n",
       "      <th>Observed Attendance</th>\n",
       "    </tr>\n",
       "  </thead>\n",
       "  <tbody>\n",
       "    <tr>\n",
       "      <th>0</th>\n",
       "      <td>5</td>\n",
       "      <td>3</td>\n",
       "      <td>3</td>\n",
       "      <td>1</td>\n",
       "      <td>1</td>\n",
       "      <td>2</td>\n",
       "      <td>4</td>\n",
       "      <td>22</td>\n",
       "      <td>3</td>\n",
       "      <td>1</td>\n",
       "      <td>1</td>\n",
       "      <td>1</td>\n",
       "      <td>2</td>\n",
       "      <td>1</td>\n",
       "      <td>4</td>\n",
       "      <td>3</td>\n",
       "      <td>1</td>\n",
       "      <td>0</td>\n",
       "    </tr>\n",
       "    <tr>\n",
       "      <th>1</th>\n",
       "      <td>5</td>\n",
       "      <td>3</td>\n",
       "      <td>3</td>\n",
       "      <td>1</td>\n",
       "      <td>1</td>\n",
       "      <td>2</td>\n",
       "      <td>1</td>\n",
       "      <td>39</td>\n",
       "      <td>3</td>\n",
       "      <td>1</td>\n",
       "      <td>1</td>\n",
       "      <td>1</td>\n",
       "      <td>2</td>\n",
       "      <td>1</td>\n",
       "      <td>4</td>\n",
       "      <td>3</td>\n",
       "      <td>1</td>\n",
       "      <td>0</td>\n",
       "    </tr>\n",
       "    <tr>\n",
       "      <th>2</th>\n",
       "      <td>5</td>\n",
       "      <td>3</td>\n",
       "      <td>3</td>\n",
       "      <td>1</td>\n",
       "      <td>1</td>\n",
       "      <td>2</td>\n",
       "      <td>2</td>\n",
       "      <td>11</td>\n",
       "      <td>3</td>\n",
       "      <td>1</td>\n",
       "      <td>1</td>\n",
       "      <td>1</td>\n",
       "      <td>2</td>\n",
       "      <td>1</td>\n",
       "      <td>4</td>\n",
       "      <td>2</td>\n",
       "      <td>1</td>\n",
       "      <td>0</td>\n",
       "    </tr>\n",
       "    <tr>\n",
       "      <th>3</th>\n",
       "      <td>5</td>\n",
       "      <td>3</td>\n",
       "      <td>3</td>\n",
       "      <td>1</td>\n",
       "      <td>1</td>\n",
       "      <td>2</td>\n",
       "      <td>2</td>\n",
       "      <td>11</td>\n",
       "      <td>3</td>\n",
       "      <td>1</td>\n",
       "      <td>0</td>\n",
       "      <td>1</td>\n",
       "      <td>0</td>\n",
       "      <td>1</td>\n",
       "      <td>4</td>\n",
       "      <td>2</td>\n",
       "      <td>1</td>\n",
       "      <td>0</td>\n",
       "    </tr>\n",
       "    <tr>\n",
       "      <th>4</th>\n",
       "      <td>5</td>\n",
       "      <td>3</td>\n",
       "      <td>3</td>\n",
       "      <td>1</td>\n",
       "      <td>1</td>\n",
       "      <td>2</td>\n",
       "      <td>1</td>\n",
       "      <td>11</td>\n",
       "      <td>3</td>\n",
       "      <td>1</td>\n",
       "      <td>1</td>\n",
       "      <td>0</td>\n",
       "      <td>2</td>\n",
       "      <td>1</td>\n",
       "      <td>4</td>\n",
       "      <td>2</td>\n",
       "      <td>0</td>\n",
       "      <td>0</td>\n",
       "    </tr>\n",
       "  </tbody>\n",
       "</table>\n",
       "</div>"
      ],
      "text/plain": [
       "   Client name  Industry  Position  Interview Type  Gender  Current Location  \\\n",
       "0            5         3         3               1       1                 2   \n",
       "1            5         3         3               1       1                 2   \n",
       "2            5         3         3               1       1                 2   \n",
       "3            5         3         3               1       1                 2   \n",
       "4            5         3         3               1       1                 2   \n",
       "\n",
       "   Candidate Job Location  Native  permission  meetings  Reminder  \\\n",
       "0                       4      22           3         1         1   \n",
       "1                       1      39           3         1         1   \n",
       "2                       2      11           3         1         1   \n",
       "3                       2      11           3         1         0   \n",
       "4                       1      11           3         1         1   \n",
       "\n",
       "   Alternate number  Resume printout & JD  Venue clear  Call letter shared  \\\n",
       "0                 1                     2            1                   4   \n",
       "1                 1                     2            1                   4   \n",
       "2                 1                     2            1                   4   \n",
       "3                 1                     0            1                   4   \n",
       "4                 0                     2            1                   4   \n",
       "\n",
       "   Expected Attendance  Marital Status  Observed Attendance  \n",
       "0                    3               1                    0  \n",
       "1                    3               1                    0  \n",
       "2                    2               1                    0  \n",
       "3                    2               1                    0  \n",
       "4                    2               0                    0  "
      ]
     },
     "execution_count": 80,
     "metadata": {},
     "output_type": "execute_result"
    }
   ],
   "source": [
    "TransformedData.head()"
   ]
  },
  {
   "cell_type": "code",
   "execution_count": null,
   "metadata": {},
   "outputs": [],
   "source": []
  },
  {
   "cell_type": "markdown",
   "metadata": {},
   "source": [
    "###  Perform classification using Naive Bayes algorithm and explaining the performance"
   ]
  },
  {
   "cell_type": "markdown",
   "metadata": {},
   "source": [
    "#### Seperating features and labels "
   ]
  },
  {
   "cell_type": "code",
   "execution_count": 81,
   "metadata": {},
   "outputs": [],
   "source": [
    "y = TransformedData['Observed Attendance']\n",
    "TransformedData.drop(['Observed Attendance'], axis=1 ,inplace=True)"
   ]
  },
  {
   "cell_type": "markdown",
   "metadata": {},
   "source": [
    "#### Seperating train and test data"
   ]
  },
  {
   "cell_type": "code",
   "execution_count": 82,
   "metadata": {},
   "outputs": [],
   "source": [
    "from sklearn.model_selection import train_test_split\n",
    "x_train, x_test, y_train, y_test = train_test_split(TransformedData, y, test_size=0.2, random_state=42)"
   ]
  },
  {
   "cell_type": "code",
   "execution_count": 83,
   "metadata": {},
   "outputs": [
    {
     "name": "stdout",
     "output_type": "stream",
     "text": [
      "(985, 17)\n",
      "(985,)\n",
      "(247, 17)\n",
      "(247,)\n"
     ]
    }
   ],
   "source": [
    "\n",
    "print(x_train.shape)\n",
    "print(y_train.shape)\n",
    "print(x_test.shape)\n",
    "print(y_test.shape)"
   ]
  },
  {
   "cell_type": "code",
   "execution_count": 84,
   "metadata": {},
   "outputs": [],
   "source": [
    "from sklearn.naive_bayes import GaussianNB\n",
    "from sklearn.metrics import confusion_matrix, classification_report, roc_auc_score, accuracy_score\n",
    "from sklearn import metrics\n",
    "\n",
    "# Create a Gaussian model\n",
    "model = GaussianNB()\n",
    "\n",
    "# Train the model using train data\n",
    "model = model.fit(x_train, y_train)\n",
    "\n",
    "# Predict data from model using test data\n",
    "y_pred = model.predict(x_test)"
   ]
  },
  {
   "cell_type": "markdown",
   "metadata": {},
   "source": [
    "#### Evaluate the model performance"
   ]
  },
  {
   "cell_type": "code",
   "execution_count": 85,
   "metadata": {},
   "outputs": [
    {
     "name": "stdout",
     "output_type": "stream",
     "text": [
      "[[ 35  10]\n",
      " [ 56 146]]\n",
      "              precision    recall  f1-score   support\n",
      "\n",
      "           0       0.38      0.78      0.51        45\n",
      "           1       0.94      0.72      0.82       202\n",
      "\n",
      "   micro avg       0.73      0.73      0.73       247\n",
      "   macro avg       0.66      0.75      0.67       247\n",
      "weighted avg       0.84      0.73      0.76       247\n",
      "\n",
      "0.7502750275027503\n",
      "0.7327935222672065\n"
     ]
    }
   ],
   "source": [
    "print(metrics.confusion_matrix(y_pred, y_test))\n",
    "print(metrics.classification_report(y_pred, y_test))\n",
    "print(metrics.roc_auc_score(y_pred, y_test))\n",
    "print(metrics.accuracy_score(y_pred, y_test))"
   ]
  },
  {
   "cell_type": "markdown",
   "metadata": {},
   "source": [
    "*** Above avg accuracy score with average area under curve score. Decent precison and recall values."
   ]
  },
  {
   "cell_type": "code",
   "execution_count": null,
   "metadata": {},
   "outputs": [],
   "source": []
  }
 ],
 "metadata": {
  "kernelspec": {
   "display_name": "Python 3",
   "language": "python",
   "name": "python3"
  },
  "language_info": {
   "codemirror_mode": {
    "name": "ipython",
    "version": 3
   },
   "file_extension": ".py",
   "mimetype": "text/x-python",
   "name": "python",
   "nbconvert_exporter": "python",
   "pygments_lexer": "ipython3",
   "version": "3.7.3"
  }
 },
 "nbformat": 4,
 "nbformat_minor": 2
}
